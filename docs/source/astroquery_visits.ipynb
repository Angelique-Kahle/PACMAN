{
 "cells": [
  {
   "cell_type": "markdown",
   "metadata": {},
   "source": [
    "# Download data "
   ]
  },
  {
   "cell_type": "markdown",
   "metadata": {},
   "source": [
    "## Using astroquery"
   ]
  },
  {
   "cell_type": "markdown",
   "metadata": {},
   "source": [
    "### Download observations from MAST using astroquery for a part of an HST program"
   ]
  },
  {
   "cell_type": "markdown",
   "metadata": {},
   "source": [
    "You can download HST data using astroquery https://astroquery.readthedocs.io/en/latest/.\n",
    "\n",
    "Here's an example using a Jupyter Notebook on how to do that.\n",
    "\n",
    "A scipt version of this Jupyter Notebook can be found here: https://github.com/sebastian-zieba/PACMAN/blob/master/docs/source/media/download/download_data_astroquery.py"
   ]
  },
  {
   "cell_type": "markdown",
   "metadata": {},
   "source": [
    "In this example, we are going to analyze just three visits taken in the middle of the GO13021 program for simplicity: \n",
    "\n",
    "Dates (YYYY-MM-DD): 2013-03-13, 2013-03-15, 2013-03-27\n",
    "\n",
    "If the user downloaded all 15 visits in GO13021, he or she can choose: which_visits = [5,6,7] in the pcf."
   ]
  },
  {
   "cell_type": "markdown",
   "metadata": {},
   "source": [
    "**PACMAN can currently just work with files with an ima extension, so you want to select these. ima is an intermediate data product standing for calibrated intermediate IR multiaccum image. From the WFC3 data handbook (https://hst-docs.stsci.edu/wfc3dhb/chapter-2-wfc3-data-structure/2-1-types-of-wfc3-files): “For the IR detector, an intermediate MultiAccum (ima) file is the result after all calibrations are applied (dark subtraction, linearity correction, flat fielding, etc.) to all of the individual readouts of the IR exposure.”** "
   ]
  },
  {
   "cell_type": "markdown",
   "metadata": {},
   "source": [
    "Alternative methods on how to download HST data can be found here: https://pacmandocs.readthedocs.io/en/latest/download_data.html"
   ]
  },
  {
   "cell_type": "markdown",
   "metadata": {},
   "source": [
    "This tutorial is based on the following Jupyter Notebooks:\n",
    "\n",
    "https://github.com/spacetelescope/MAST-API-Notebooks/blob/master/HST/HST_Data_Access.ipynb\n",
    "\n",
    "https://github.com/spacetelescope/MAST-API-Notebooks/blob/master/AstroqueryIntro/AstroqueryFunctionalityDemo.ipynb \n",
    "    "
   ]
  },
  {
   "cell_type": "code",
   "execution_count": 2,
   "metadata": {},
   "outputs": [],
   "source": [
    "import numpy as np\n",
    "import os\n",
    "from astroquery.mast import Observations"
   ]
  },
  {
   "cell_type": "markdown",
   "metadata": {},
   "source": [
    "### set start and end time of the observations in MJD"
   ]
  },
  {
   "cell_type": "markdown",
   "metadata": {},
   "source": [
    "We are going to use the following times in MJD to define that files we want to download"
   ]
  },
  {
   "cell_type": "markdown",
   "metadata": {},
   "source": [
    "Beginning: 2013-3-13 12:42:48.74     year-month-day hour:minute:second\n",
    "\n",
    "End: 2013-3-27 23:31:20.93     year-month-day hour:minute:second"
   ]
  },
  {
   "cell_type": "code",
   "execution_count": 4,
   "metadata": {},
   "outputs": [],
   "source": [
    "t_min_obs =  56364.52973075 - 0.0001\n",
    "t_max_obs =  56378.980103359994 + 0.0001"
   ]
  },
  {
   "cell_type": "markdown",
   "metadata": {},
   "source": [
    "The proposal ID is 13021 and we are just interested in the data taken with HST WFC3"
   ]
  },
  {
   "cell_type": "code",
   "execution_count": 5,
   "metadata": {},
   "outputs": [
    {
     "name": "stdout",
     "output_type": "stream",
     "text": [
      "Number of observations: 1115\n",
      "dataproduct_type calib_level obs_collection ... intentType  obsid     objID  \n",
      "---------------- ----------- -------------- ... ---------- -------- ---------\n",
      "        spectrum           3            HST ...    science 23901558 139211258\n",
      "        spectrum           3            HST ...    science 23901554 139211259\n",
      "        spectrum           3            HST ...    science 23901557 139211260\n",
      "        spectrum           3            HST ...    science 23901739 139211261\n",
      "        spectrum           3            HST ...    science 23901737 139211268\n",
      "        spectrum           3            HST ...    science 23901747 139211277\n",
      "        spectrum           3            HST ...    science 23901722 139211708\n",
      "        spectrum           3            HST ...    science 23901745 139211710\n",
      "        spectrum           3            HST ...    science 23901748 139211712\n",
      "        spectrum           3            HST ...    science 23901734 139211713\n",
      "             ...         ...            ... ...        ...      ...       ...\n",
      "        spectrum           3            HST ...    science 23902297 139244167\n",
      "        spectrum           3            HST ...    science 23902300 139244170\n",
      "        spectrum           3            HST ...    science 23902294 139244173\n",
      "        spectrum           3            HST ...    science 23902315 139244755\n",
      "        spectrum           3            HST ...    science 23902270 139244759\n",
      "        spectrum           3            HST ...    science 23902267 139244763\n",
      "        spectrum           3            HST ...    science 23902333 139244764\n",
      "        spectrum           3            HST ...    science 23902247 139244767\n",
      "        spectrum           3            HST ...    science 23902642 139245484\n",
      "        spectrum           3            HST ...    science 23902688 139245487\n",
      "           image           3            HST ...    science 24807268 139251148\n",
      "Length = 1115 rows\n"
     ]
    }
   ],
   "source": [
    "proposal_obs = Observations.query_criteria(proposal_id=13021,  instrument_name='WFC3/IR', project='HST')\n",
    "print(\"Number of observations:\",len(proposal_obs))\n",
    "print(proposal_obs)"
   ]
  },
  {
   "cell_type": "markdown",
   "metadata": {},
   "source": [
    "### Filter for the wanted times"
   ]
  },
  {
   "cell_type": "code",
   "execution_count": 6,
   "metadata": {},
   "outputs": [],
   "source": [
    "select = (t_min_obs <= proposal_obs['t_min'].value.data) & (proposal_obs['t_min'].value.data <= t_max_obs)"
   ]
  },
  {
   "cell_type": "code",
   "execution_count": 7,
   "metadata": {},
   "outputs": [],
   "source": [
    "proposal_obs_select = proposal_obs[select]"
   ]
  },
  {
   "cell_type": "code",
   "execution_count": 8,
   "metadata": {},
   "outputs": [
    {
     "name": "stdout",
     "output_type": "stream",
     "text": [
      "Number of results: 3147\n",
      " obsID   obs_collection dataproduct_type ... parent_obsid dataRights calib_level\n",
      "-------- -------------- ---------------- ... ------------ ---------- -----------\n",
      "26572598            HST            image ...     24807271     PUBLIC           3\n",
      "26572598            HST            image ...     24807271     PUBLIC           3\n",
      "26572598            HST            image ...     24807271     PUBLIC           3\n",
      "26572598            HST            image ...     24807271     PUBLIC           3\n",
      "26572598            HST            image ...     24807271     PUBLIC           3\n",
      "26572592            HST            image ...     24807271     PUBLIC           2\n",
      "26572592            HST            image ...     24807271     PUBLIC           2\n",
      "26572592            HST            image ...     24807271     PUBLIC           2\n",
      "26572592            HST            image ...     24807271     PUBLIC           2\n",
      "26572592            HST            image ...     24807271     PUBLIC           2\n",
      "     ...            ...              ... ...          ...        ...         ...\n",
      "23902300            HST         spectrum ...     23902300     PUBLIC           1\n",
      "23902300            HST         spectrum ...     23902300     PUBLIC           1\n",
      "23902300            HST         spectrum ...     23902300     PUBLIC           1\n",
      "23902300            HST         spectrum ...     23902300     PUBLIC           1\n",
      "23902300            HST         spectrum ...     23902300     PUBLIC           1\n",
      "23902300            HST         spectrum ...     23902300     PUBLIC           1\n",
      "23902300            HST         spectrum ...     23902300     PUBLIC           3\n",
      "23902300            HST         spectrum ...     23902300     PUBLIC           2\n",
      "23902300            HST         spectrum ...     23902300     PUBLIC           1\n",
      "23902300            HST         spectrum ...     23902300     PUBLIC           3\n",
      "23902300            HST         spectrum ...     23902300     PUBLIC           2\n",
      "Length = 3147 rows\n"
     ]
    }
   ],
   "source": [
    "data_products = Observations.get_product_list(proposal_obs_select)\n",
    "print(\"Number of results:\",len(data_products))\n",
    "print(data_products)"
   ]
  },
  {
   "cell_type": "markdown",
   "metadata": {},
   "source": [
    "### We just want the _ima files"
   ]
  },
  {
   "cell_type": "markdown",
   "metadata": {},
   "source": [
    "As mentioned before, we are just interested in the ima files."
   ]
  },
  {
   "cell_type": "code",
   "execution_count": 9,
   "metadata": {},
   "outputs": [
    {
     "name": "stdout",
     "output_type": "stream",
     "text": [
      " obsID   obs_collection dataproduct_type ... parent_obsid dataRights calib_level\n",
      "-------- -------------- ---------------- ... ------------ ---------- -----------\n",
      "23901914            HST            image ...     24807271     PUBLIC           2\n",
      "23901915            HST         spectrum ...     23901915     PUBLIC           2\n",
      "23901916            HST         spectrum ...     23901916     PUBLIC           2\n",
      "23901917            HST         spectrum ...     23901917     PUBLIC           2\n",
      "23901918            HST         spectrum ...     23901918     PUBLIC           2\n",
      "23901919            HST         spectrum ...     23901919     PUBLIC           2\n",
      "23901920            HST         spectrum ...     23901920     PUBLIC           2\n",
      "23901921            HST         spectrum ...     23901921     PUBLIC           2\n",
      "23901922            HST         spectrum ...     23901922     PUBLIC           2\n",
      "23901923            HST         spectrum ...     23901923     PUBLIC           2\n",
      "     ...            ...              ... ...          ...        ...         ...\n",
      "23902290            HST         spectrum ...     23902290     PUBLIC           2\n",
      "23902291            HST         spectrum ...     23902291     PUBLIC           2\n",
      "23902292            HST         spectrum ...     23902292     PUBLIC           2\n",
      "23902293            HST         spectrum ...     23902293     PUBLIC           2\n",
      "23902294            HST         spectrum ...     23902294     PUBLIC           2\n",
      "23902295            HST         spectrum ...     23902295     PUBLIC           2\n",
      "23902296            HST         spectrum ...     23902296     PUBLIC           2\n",
      "23902297            HST         spectrum ...     23902297     PUBLIC           2\n",
      "23902298            HST         spectrum ...     23902298     PUBLIC           2\n",
      "23902299            HST         spectrum ...     23902299     PUBLIC           2\n",
      "23902300            HST         spectrum ...     23902300     PUBLIC           2\n",
      "Length = 237 rows\n"
     ]
    }
   ],
   "source": [
    "data_products_ima = data_products[data_products['productSubGroupDescription'] == 'IMA']\n",
    "print(data_products_ima)"
   ]
  },
  {
   "cell_type": "markdown",
   "metadata": {},
   "source": [
    "### Download the data"
   ]
  },
  {
   "cell_type": "code",
   "execution_count": 10,
   "metadata": {},
   "outputs": [],
   "source": [
    "#just a quick test downloading the first 5 files\n",
    "#data_products_ima = data_products_ima[:5]"
   ]
  },
  {
   "cell_type": "code",
   "execution_count": 11,
   "metadata": {
    "scrolled": true
   },
   "outputs": [
    {
     "name": "stdout",
     "output_type": "stream",
     "text": [
      "Downloading URL https://mast.stsci.edu/api/v0.1/Download/file?uri=mast:HST/product/ibxy06d0q_ima.fits to ./mastDownload/HST/ibxy06d0q/ibxy06d0q_ima.fits ... [Done]\n",
      "Downloading URL https://mast.stsci.edu/api/v0.1/Download/file?uri=mast:HST/product/ibxy06d1q_ima.fits to ./mastDownload/HST/ibxy06d1q/ibxy06d1q_ima.fits ... [Done]\n",
      "Downloading URL https://mast.stsci.edu/api/v0.1/Download/file?uri=mast:HST/product/ibxy06d2q_ima.fits to ./mastDownload/HST/ibxy06d2q/ibxy06d2q_ima.fits ... [Done]\n",
      "Downloading URL https://mast.stsci.edu/api/v0.1/Download/file?uri=mast:HST/product/ibxy06d3q_ima.fits to ./mastDownload/HST/ibxy06d3q/ibxy06d3q_ima.fits ... [Done]\n",
      "Downloading URL https://mast.stsci.edu/api/v0.1/Download/file?uri=mast:HST/product/ibxy06d4q_ima.fits to ./mastDownload/HST/ibxy06d4q/ibxy06d4q_ima.fits ... [Done]\n"
     ]
    },
    {
     "data": {
      "text/html": [
       "<div><i>Table length=5</i>\n",
       "<table id=\"table139675648607376\" class=\"table-striped table-bordered table-condensed\">\n",
       "<thead><tr><th>Local Path</th><th>Status</th><th>Message</th><th>URL</th></tr></thead>\n",
       "<thead><tr><th>str47</th><th>str8</th><th>object</th><th>object</th></tr></thead>\n",
       "<tr><td>./mastDownload/HST/ibxy06d0q/ibxy06d0q_ima.fits</td><td>COMPLETE</td><td>None</td><td>None</td></tr>\n",
       "<tr><td>./mastDownload/HST/ibxy06d1q/ibxy06d1q_ima.fits</td><td>COMPLETE</td><td>None</td><td>None</td></tr>\n",
       "<tr><td>./mastDownload/HST/ibxy06d2q/ibxy06d2q_ima.fits</td><td>COMPLETE</td><td>None</td><td>None</td></tr>\n",
       "<tr><td>./mastDownload/HST/ibxy06d3q/ibxy06d3q_ima.fits</td><td>COMPLETE</td><td>None</td><td>None</td></tr>\n",
       "<tr><td>./mastDownload/HST/ibxy06d4q/ibxy06d4q_ima.fits</td><td>COMPLETE</td><td>None</td><td>None</td></tr>\n",
       "</table></div>"
      ],
      "text/plain": [
       "<Table length=5>\n",
       "                   Local Path                    Status  Message  URL  \n",
       "                     str47                        str8    object object\n",
       "----------------------------------------------- -------- ------- ------\n",
       "./mastDownload/HST/ibxy06d0q/ibxy06d0q_ima.fits COMPLETE    None   None\n",
       "./mastDownload/HST/ibxy06d1q/ibxy06d1q_ima.fits COMPLETE    None   None\n",
       "./mastDownload/HST/ibxy06d2q/ibxy06d2q_ima.fits COMPLETE    None   None\n",
       "./mastDownload/HST/ibxy06d3q/ibxy06d3q_ima.fits COMPLETE    None   None\n",
       "./mastDownload/HST/ibxy06d4q/ibxy06d4q_ima.fits COMPLETE    None   None"
      ]
     },
     "execution_count": 11,
     "metadata": {},
     "output_type": "execute_result"
    }
   ],
   "source": [
    "Observations.download_products(data_products_ima,mrp_only=False)"
   ]
  },
  {
   "cell_type": "code",
   "execution_count": 12,
   "metadata": {},
   "outputs": [],
   "source": [
    "file_path = os.path.dirname(os.path.abspath(\"__file__\"))"
   ]
  },
  {
   "cell_type": "code",
   "execution_count": 13,
   "metadata": {},
   "outputs": [
    {
     "data": {
      "text/plain": [
       "'/home/zieba/Desktop/Projects/Open_source/PACMAN/docs/source'"
      ]
     },
     "execution_count": 13,
     "metadata": {},
     "output_type": "execute_result"
    }
   ],
   "source": [
    "file_path"
   ]
  },
  {
   "cell_type": "code",
   "execution_count": 15,
   "metadata": {},
   "outputs": [],
   "source": [
    "root_dir = file_path + '/mastDownload/HST' # Specify root directory to be searched for .sav files.\n",
    "move_dir = file_path\n",
    "filelist = []\n",
    "\n",
    "# list all ima files in the subdirectories\n",
    "for tree,fol,fils in os.walk(root_dir):\n",
    "    filelist.extend([os.path.join(tree,fil) for fil in fils if fil.endswith('.fits')])"
   ]
  },
  {
   "cell_type": "code",
   "execution_count": 16,
   "metadata": {},
   "outputs": [
    {
     "data": {
      "text/plain": [
       "['/home/zieba/Desktop/Projects/Open_source/PACMAN/docs/source/mastDownload/HST/ibxy06d1q/ibxy06d1q_ima.fits',\n",
       " '/home/zieba/Desktop/Projects/Open_source/PACMAN/docs/source/mastDownload/HST/ibxy06d0q/ibxy06d0q_ima.fits',\n",
       " '/home/zieba/Desktop/Projects/Open_source/PACMAN/docs/source/mastDownload/HST/ibxy06d3q/ibxy06d3q_ima.fits',\n",
       " '/home/zieba/Desktop/Projects/Open_source/PACMAN/docs/source/mastDownload/HST/ibxy06d2q/ibxy06d2q_ima.fits',\n",
       " '/home/zieba/Desktop/Projects/Open_source/PACMAN/docs/source/mastDownload/HST/ibxy06d4q/ibxy06d4q_ima.fits']"
      ]
     },
     "execution_count": 16,
     "metadata": {},
     "output_type": "execute_result"
    }
   ],
   "source": [
    "# all dowloaded ima files\n",
    "print(filelist)"
   ]
  },
  {
   "cell_type": "code",
   "execution_count": 17,
   "metadata": {},
   "outputs": [],
   "source": [
    "for fil in filelist:\n",
    "    name = fil.split('/')[-1]\n",
    "    os.rename(fil,move_dir + '/' + name)"
   ]
  },
  {
   "cell_type": "code",
   "execution_count": 18,
   "metadata": {},
   "outputs": [
    {
     "data": {
      "text/plain": [
       "0"
      ]
     },
     "execution_count": 18,
     "metadata": {},
     "output_type": "execute_result"
    }
   ],
   "source": [
    "# delete the mastDownload directory\n",
    "os.system(\"rm -r {0}\".format(file_path + '/mastDownload'))"
   ]
  }
 ],
 "metadata": {
  "kernelspec": {
   "display_name": "Python 3",
   "language": "python",
   "name": "python3"
  },
  "language_info": {
   "codemirror_mode": {
    "name": "ipython",
    "version": 3
   },
   "file_extension": ".py",
   "mimetype": "text/x-python",
   "name": "python",
   "nbconvert_exporter": "python",
   "pygments_lexer": "ipython3",
   "version": "3.7.6"
  }
 },
 "nbformat": 4,
 "nbformat_minor": 4
}
