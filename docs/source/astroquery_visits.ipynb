{
 "cells": [
  {
   "cell_type": "markdown",
   "metadata": {},
   "source": [
    "# Download data "
   ]
  },
  {
   "cell_type": "markdown",
   "metadata": {},
   "source": [
    "## Using astroquery"
   ]
  },
  {
   "cell_type": "markdown",
   "metadata": {},
   "source": [
    "### Download observations from MAST using astroquery for a part of an HST program"
   ]
  },
  {
   "cell_type": "markdown",
   "metadata": {},
   "source": [
    "**TL;DR: If you want to download the data from the two visits, execute the script [on the PACMAN GitHub](https://github.com/sebastian-zieba/PACMAN/blob/master/docs/source/media/download/download_data_astroquery.py).**\n",
    "\n",
    "This tutorial is based on the following Jupyter Notebooks on the STSci GitHub:\n",
    "[(1)](https://github.com/spacetelescope/MAST-API-Notebooks/blob/master/HST/HST_Data_Access.ipynb)\n",
    "and [(2)](https://github.com/spacetelescope/MAST-API-Notebooks/blob/master/AstroqueryIntro/AstroqueryFunctionalityDemo.ipynb).\n",
    "\n",
    "\n",
    "Here we will download HST data using [astroquery](https://astroquery.readthedocs.io/en/latest/).\n",
    "\n",
    "A script example on how to do is can be found [on the PACMAN GitHub](https://github.com/sebastian-zieba/PACMAN/blob/master/docs/source/media/download/download_data_astroquery.py).\n",
    "In this tutorial, we are going to have a look at this script using a Jupyter Notebook."
   ]
  },
  {
   "cell_type": "markdown",
   "metadata": {},
   "source": [
    "It is recommended to run this script or jupyter notebook in a new directory.\n",
    "The fits files will be saved there and this directory will then be used as the \"data directory\".\n",
    "More on the data directory [here (in the context of the pcf)](https://pacmandocs.readthedocs.io/en/latest/pcf.html#datadir)\n",
    "and [here](https://pacmandocs.readthedocs.io/en/latest/directories.html#nomenclature)."
   ]
  },
  {
   "cell_type": "markdown",
   "metadata": {},
   "source": [
    "In this example, we are going to analyze just two visits (with index 5 and 6) taken in the middle of the GO13021 program for simplicity:\n",
    "\n",
    "Dates (YYYY-MM-DD): 2013-03-13 and 2013-03-15.\n",
    "\n",
    "If the user has already downloaded all 15 visits in GO13021, he or she can choose:\n",
    "which_visits = [5,6] in the pcf (see the [pcf page](https://pacmandocs.readthedocs.io/en/latest/pcf.html#which-visits) about this parameter)."
   ]
  },
  {
   "cell_type": "markdown",
   "metadata": {},
   "source": [
    "Alternative methods on how to download HST data can be found here: https://pacmandocs.readthedocs.io/en/latest/download_data.html"
   ]
  },
  {
   "cell_type": "markdown",
   "metadata": {},
   "source": [
    "Let's first import some necessary packages."
   ]
  },
  {
   "cell_type": "code",
   "execution_count": 1,
   "metadata": {},
   "outputs": [],
   "source": [
    "from astropy.time import Time\n",
    "import os\n",
    "from astroquery.mast import Observations"
   ]
  },
  {
   "cell_type": "markdown",
   "metadata": {},
   "source": [
    "### Set start and end time of the observations in MJD"
   ]
  },
  {
   "cell_type": "markdown",
   "metadata": {},
   "source": [
    "We are going to first find out the start and end times of the observations to define the files we want to download.\n",
    "Looking at the [Visit Status Report for program 13021](https://www.stsci.edu/cgi-bin/get-visit-status?id=13021&markupFormat=html&observatory=HST) we can see the times in UT are:\n",
    "Note that STSci is using a different indexing for the visits! PACMAN uses a temporally sorted indexing scheme."
   ]
  },
  {
   "cell_type": "markdown",
   "metadata": {},
   "source": [
    "From the website:\n",
    "\n",
    "###\n",
    "\n",
    "START Mar 13, 2013 12:34:53\n",
    "\n",
    "END Mar 13, 2013 18:17:34\n",
    "\n",
    "###\n",
    "\n",
    "START Mar 15, 2013 02:52:08\n",
    "\n",
    "END Mar 15, 2013 08:34:55"
   ]
  },
  {
   "cell_type": "code",
   "execution_count": 4,
   "metadata": {},
   "outputs": [],
   "source": [
    "t_obs_utc = ['2013-03-13T12:34:53', '2013-03-15T08:34:55'] # very start and end of the two visits\n",
    "t_obs = Time(t_obs_utc, format='isot', scale='utc')"
   ]
  },
  {
   "cell_type": "code",
   "execution_count": 5,
   "metadata": {},
   "outputs": [
    {
     "data": {
      "text/plain": [
       "<Time object: scale='utc' format='isot' value=['2013-03-13T12:34:53.000' '2013-03-15T08:34:55.000']>"
      ]
     },
     "execution_count": 5,
     "metadata": {},
     "output_type": "execute_result"
    }
   ],
   "source": [
    "t_obs"
   ]
  },
  {
   "cell_type": "code",
   "execution_count": 6,
   "metadata": {},
   "outputs": [],
   "source": [
    "t_min_obs =  t_obs.mjd[0] - 0.0001\n",
    "t_max_obs =  t_obs.mjd[1] + 0.0001"
   ]
  },
  {
   "cell_type": "markdown",
   "metadata": {},
   "source": [
    "The proposal ID is 13021 and we are just interested in the data taken with HST WFC3."
   ]
  },
  {
   "cell_type": "code",
   "execution_count": 7,
   "metadata": {},
   "outputs": [
    {
     "name": "stdout",
     "output_type": "stream",
     "text": [
      "Number of observations: 1115\n",
      "dataproduct_type calib_level obs_collection ... intentType  obsid     objID  \n",
      "---------------- ----------- -------------- ... ---------- -------- ---------\n",
      "        spectrum           3            HST ...    science 23901558 139211258\n",
      "        spectrum           3            HST ...    science 23901554 139211259\n",
      "        spectrum           3            HST ...    science 23901557 139211260\n",
      "        spectrum           3            HST ...    science 23901739 139211261\n",
      "        spectrum           3            HST ...    science 23901737 139211268\n",
      "        spectrum           3            HST ...    science 23901747 139211277\n",
      "        spectrum           3            HST ...    science 23901722 139211708\n",
      "             ...         ...            ... ...        ...      ...       ...\n",
      "        spectrum           3            HST ...    science 23902270 139244759\n",
      "        spectrum           3            HST ...    science 23902267 139244763\n",
      "        spectrum           3            HST ...    science 23902333 139244764\n",
      "        spectrum           3            HST ...    science 23902247 139244767\n",
      "        spectrum           3            HST ...    science 23902642 139245484\n",
      "        spectrum           3            HST ...    science 23902688 139245487\n",
      "           image           3            HST ...    science 24807268 139251148\n",
      "Length = 1115 rows\n"
     ]
    }
   ],
   "source": [
    "proposal_obs = Observations.query_criteria(proposal_id=13021, instrument_name='WFC3/IR', project='HST')\n",
    "print(\"Number of observations:\",len(proposal_obs))\n",
    "print(proposal_obs)"
   ]
  },
  {
   "cell_type": "markdown",
   "metadata": {},
   "source": [
    "### Use a mask so that we only download data taken during the wanted times"
   ]
  },
  {
   "cell_type": "code",
   "execution_count": 8,
   "metadata": {},
   "outputs": [],
   "source": [
    "# create mask\n",
    "select = (t_min_obs <= proposal_obs['t_min'].value.data) & (proposal_obs['t_min'].value.data <= t_max_obs)"
   ]
  },
  {
   "cell_type": "code",
   "execution_count": 9,
   "metadata": {},
   "outputs": [],
   "source": [
    "# mask main array\n",
    "proposal_obs_select = proposal_obs[select]"
   ]
  },
  {
   "cell_type": "code",
   "execution_count": 10,
   "metadata": {},
   "outputs": [
    {
     "name": "stdout",
     "output_type": "stream",
     "text": [
      "Number of results: 2090\n",
      " obsID   obs_collection dataproduct_type ... dataRights calib_level\n",
      "-------- -------------- ---------------- ... ---------- -----------\n",
      "26572598            HST            image ...     PUBLIC           3\n",
      "26572598            HST            image ...     PUBLIC           3\n",
      "26572598            HST            image ...     PUBLIC           3\n",
      "26572598            HST            image ...     PUBLIC           3\n",
      "26572598            HST            image ...     PUBLIC           3\n",
      "26572592            HST            image ...     PUBLIC           2\n",
      "26572592            HST            image ...     PUBLIC           2\n",
      "     ...            ...              ... ...        ...         ...\n",
      "23902071            HST         spectrum ...     PUBLIC           1\n",
      "23902071            HST         spectrum ...     PUBLIC           1\n",
      "23902071            HST         spectrum ...     PUBLIC           3\n",
      "23902071            HST         spectrum ...     PUBLIC           2\n",
      "23902071            HST         spectrum ...     PUBLIC           1\n",
      "23902071            HST         spectrum ...     PUBLIC           3\n",
      "23902071            HST         spectrum ...     PUBLIC           2\n",
      "Length = 2090 rows\n"
     ]
    }
   ],
   "source": [
    "# list data products available during these times\n",
    "data_products = Observations.get_product_list(proposal_obs_select)\n",
    "print(\"Number of results:\",len(data_products))\n",
    "print(data_products)"
   ]
  },
  {
   "cell_type": "markdown",
   "metadata": {},
   "source": [
    "### We just want the _ima files"
   ]
  },
  {
   "cell_type": "markdown",
   "metadata": {},
   "source": [
    "**PACMAN can currently just work with files with an ima extension, so you want to select these.\n",
    "ima is an intermediate data product standing for calibrated intermediate IR multiaccum image.\n",
    "From the [WFC3 data handbook](https://hst-docs.stsci.edu/wfc3dhb/chapter-2-wfc3-data-structure/2-1-types-of-wfc3-files):\n",
    "“For the IR detector, an intermediate MultiAccum (ima) file is the result after all calibrations are applied (dark subtraction, linearity correction, flat fielding, etc.) to all of the individual readouts of the IR exposure.”**"
   ]
  },
  {
   "cell_type": "code",
   "execution_count": 11,
   "metadata": {},
   "outputs": [
    {
     "name": "stdout",
     "output_type": "stream",
     "text": [
      " obsID   obs_collection dataproduct_type ... dataRights calib_level\n",
      "-------- -------------- ---------------- ... ---------- -----------\n",
      "23901914            HST            image ...     PUBLIC           2\n",
      "23901915            HST         spectrum ...     PUBLIC           2\n",
      "23901916            HST         spectrum ...     PUBLIC           2\n",
      "23901917            HST         spectrum ...     PUBLIC           2\n",
      "23901918            HST         spectrum ...     PUBLIC           2\n",
      "23901919            HST         spectrum ...     PUBLIC           2\n",
      "23901920            HST         spectrum ...     PUBLIC           2\n",
      "     ...            ...              ... ...        ...         ...\n",
      "23902065            HST         spectrum ...     PUBLIC           2\n",
      "23902066            HST         spectrum ...     PUBLIC           2\n",
      "23902067            HST         spectrum ...     PUBLIC           2\n",
      "23902068            HST         spectrum ...     PUBLIC           2\n",
      "23902069            HST         spectrum ...     PUBLIC           2\n",
      "23902070            HST         spectrum ...     PUBLIC           2\n",
      "23902071            HST         spectrum ...     PUBLIC           2\n",
      "Length = 158 rows\n"
     ]
    }
   ],
   "source": [
    "# only select IMA files\n",
    "data_products_ima = data_products[data_products['productSubGroupDescription'] == 'IMA']\n",
    "print(data_products_ima)"
   ]
  },
  {
   "cell_type": "markdown",
   "metadata": {},
   "source": [
    "### Download the data"
   ]
  },
  {
   "cell_type": "code",
   "execution_count": 12,
   "metadata": {
    "scrolled": true
   },
   "outputs": [
    {
     "name": "stdout",
     "output_type": "stream",
     "text": [
      "Downloading URL https://mast.stsci.edu/api/v0.1/Download/file?uri=mast:HST/product/ibxy06d0q_ima.fits to ./mastDownload/HST/ibxy06d0q/ibxy06d0q_ima.fits ... [Done]\n",
      "Downloading URL https://mast.stsci.edu/api/v0.1/Download/file?uri=mast:HST/product/ibxy06d1q_ima.fits to ./mastDownload/HST/ibxy06d1q/ibxy06d1q_ima.fits ... [Done]\n",
      "Downloading URL https://mast.stsci.edu/api/v0.1/Download/file?uri=mast:HST/product/ibxy06d2q_ima.fits to ./mastDownload/HST/ibxy06d2q/ibxy06d2q_ima.fits ... [Done]\n",
      "Downloading URL https://mast.stsci.edu/api/v0.1/Download/file?uri=mast:HST/product/ibxy06d3q_ima.fits to ./mastDownload/HST/ibxy06d3q/ibxy06d3q_ima.fits ... [Done]\n",
      "Downloading URL https://mast.stsci.edu/api/v0.1/Download/file?uri=mast:HST/product/ibxy06d4q_ima.fits to ./mastDownload/HST/ibxy06d4q/ibxy06d4q_ima.fits ... [Done]\n",
      "Downloading URL https://mast.stsci.edu/api/v0.1/Download/file?uri=mast:HST/product/ibxy06d6q_ima.fits to ./mastDownload/HST/ibxy06d6q/ibxy06d6q_ima.fits ... [Done]\n",
      "Downloading URL https://mast.stsci.edu/api/v0.1/Download/file?uri=mast:HST/product/ibxy06d7q_ima.fits to ./mastDownload/HST/ibxy06d7q/ibxy06d7q_ima.fits ... [Done]\n",
      "Downloading URL https://mast.stsci.edu/api/v0.1/Download/file?uri=mast:HST/product/ibxy06d8q_ima.fits to ./mastDownload/HST/ibxy06d8q/ibxy06d8q_ima.fits ... [Done]\n",
      "Downloading URL https://mast.stsci.edu/api/v0.1/Download/file?uri=mast:HST/product/ibxy06daq_ima.fits to ./mastDownload/HST/ibxy06daq/ibxy06daq_ima.fits ... [Done]\n",
      "Downloading URL https://mast.stsci.edu/api/v0.1/Download/file?uri=mast:HST/product/ibxy06dbq_ima.fits to ./mastDownload/HST/ibxy06dbq/ibxy06dbq_ima.fits ... [Done]\n",
      "Downloading URL https://mast.stsci.edu/api/v0.1/Download/file?uri=mast:HST/product/ibxy06dcq_ima.fits to ./mastDownload/HST/ibxy06dcq/ibxy06dcq_ima.fits ... [Done]\n",
      "Downloading URL https://mast.stsci.edu/api/v0.1/Download/file?uri=mast:HST/product/ibxy06deq_ima.fits to ./mastDownload/HST/ibxy06deq/ibxy06deq_ima.fits ... [Done]\n",
      "Downloading URL https://mast.stsci.edu/api/v0.1/Download/file?uri=mast:HST/product/ibxy06dfq_ima.fits to ./mastDownload/HST/ibxy06dfq/ibxy06dfq_ima.fits ... [Done]\n",
      "Downloading URL https://mast.stsci.edu/api/v0.1/Download/file?uri=mast:HST/product/ibxy06dgq_ima.fits to ./mastDownload/HST/ibxy06dgq/ibxy06dgq_ima.fits ... [Done]\n",
      "Downloading URL https://mast.stsci.edu/api/v0.1/Download/file?uri=mast:HST/product/ibxy06diq_ima.fits to ./mastDownload/HST/ibxy06diq/ibxy06diq_ima.fits ... [Done]\n",
      "Downloading URL https://mast.stsci.edu/api/v0.1/Download/file?uri=mast:HST/product/ibxy06djq_ima.fits to ./mastDownload/HST/ibxy06djq/ibxy06djq_ima.fits ... [Done]\n",
      "Downloading URL https://mast.stsci.edu/api/v0.1/Download/file?uri=mast:HST/product/ibxy06dnq_ima.fits to ./mastDownload/HST/ibxy06dnq/ibxy06dnq_ima.fits ... [Done]\n",
      "Downloading URL https://mast.stsci.edu/api/v0.1/Download/file?uri=mast:HST/product/ibxy06dpq_ima.fits to ./mastDownload/HST/ibxy06dpq/ibxy06dpq_ima.fits ... [Done]\n",
      "Downloading URL https://mast.stsci.edu/api/v0.1/Download/file?uri=mast:HST/product/ibxy06dqq_ima.fits to ./mastDownload/HST/ibxy06dqq/ibxy06dqq_ima.fits ... [Done]\n",
      "Downloading URL https://mast.stsci.edu/api/v0.1/Download/file?uri=mast:HST/product/ibxy06dvq_ima.fits to ./mastDownload/HST/ibxy06dvq/ibxy06dvq_ima.fits ... [Done]\n",
      "Downloading URL https://mast.stsci.edu/api/v0.1/Download/file?uri=mast:HST/product/ibxy06dwq_ima.fits to ./mastDownload/HST/ibxy06dwq/ibxy06dwq_ima.fits ... [Done]\n",
      "Downloading URL https://mast.stsci.edu/api/v0.1/Download/file?uri=mast:HST/product/ibxy06dyq_ima.fits to ./mastDownload/HST/ibxy06dyq/ibxy06dyq_ima.fits ... [Done]\n",
      "Downloading URL https://mast.stsci.edu/api/v0.1/Download/file?uri=mast:HST/product/ibxy06dzq_ima.fits to ./mastDownload/HST/ibxy06dzq/ibxy06dzq_ima.fits ... [Done]\n",
      "Downloading URL https://mast.stsci.edu/api/v0.1/Download/file?uri=mast:HST/product/ibxy06e0q_ima.fits to ./mastDownload/HST/ibxy06e0q/ibxy06e0q_ima.fits ... [Done]\n",
      "Downloading URL https://mast.stsci.edu/api/v0.1/Download/file?uri=mast:HST/product/ibxy06e2q_ima.fits to ./mastDownload/HST/ibxy06e2q/ibxy06e2q_ima.fits ... [Done]\n",
      "Downloading URL https://mast.stsci.edu/api/v0.1/Download/file?uri=mast:HST/product/ibxy06e3q_ima.fits to ./mastDownload/HST/ibxy06e3q/ibxy06e3q_ima.fits ... [Done]\n",
      "Downloading URL https://mast.stsci.edu/api/v0.1/Download/file?uri=mast:HST/product/ibxy06e4q_ima.fits to ./mastDownload/HST/ibxy06e4q/ibxy06e4q_ima.fits ... [Done]\n",
      "Downloading URL https://mast.stsci.edu/api/v0.1/Download/file?uri=mast:HST/product/ibxy06e6q_ima.fits to ./mastDownload/HST/ibxy06e6q/ibxy06e6q_ima.fits ... [Done]\n",
      "Downloading URL https://mast.stsci.edu/api/v0.1/Download/file?uri=mast:HST/product/ibxy06e7q_ima.fits to ./mastDownload/HST/ibxy06e7q/ibxy06e7q_ima.fits ... [Done]\n",
      "Downloading URL https://mast.stsci.edu/api/v0.1/Download/file?uri=mast:HST/product/ibxy06e8q_ima.fits to ./mastDownload/HST/ibxy06e8q/ibxy06e8q_ima.fits ... [Done]\n",
      "Downloading URL https://mast.stsci.edu/api/v0.1/Download/file?uri=mast:HST/product/ibxy06eaq_ima.fits to ./mastDownload/HST/ibxy06eaq/ibxy06eaq_ima.fits ... [Done]\n",
      "Downloading URL https://mast.stsci.edu/api/v0.1/Download/file?uri=mast:HST/product/ibxy06ebq_ima.fits to ./mastDownload/HST/ibxy06ebq/ibxy06ebq_ima.fits ... [Done]\n",
      "Downloading URL https://mast.stsci.edu/api/v0.1/Download/file?uri=mast:HST/product/ibxy06ecq_ima.fits to ./mastDownload/HST/ibxy06ecq/ibxy06ecq_ima.fits ... [Done]\n",
      "Downloading URL https://mast.stsci.edu/api/v0.1/Download/file?uri=mast:HST/product/ibxy06eeq_ima.fits to ./mastDownload/HST/ibxy06eeq/ibxy06eeq_ima.fits ... [Done]\n",
      "Downloading URL https://mast.stsci.edu/api/v0.1/Download/file?uri=mast:HST/product/ibxy06efq_ima.fits to ./mastDownload/HST/ibxy06efq/ibxy06efq_ima.fits ... [Done]\n",
      "Downloading URL https://mast.stsci.edu/api/v0.1/Download/file?uri=mast:HST/product/ibxy06egq_ima.fits to ./mastDownload/HST/ibxy06egq/ibxy06egq_ima.fits ... [Done]\n",
      "Downloading URL https://mast.stsci.edu/api/v0.1/Download/file?uri=mast:HST/product/ibxy06eiq_ima.fits to ./mastDownload/HST/ibxy06eiq/ibxy06eiq_ima.fits ... [Done]\n",
      "Downloading URL https://mast.stsci.edu/api/v0.1/Download/file?uri=mast:HST/product/ibxy06ejq_ima.fits to ./mastDownload/HST/ibxy06ejq/ibxy06ejq_ima.fits ... [Done]\n",
      "Downloading URL https://mast.stsci.edu/api/v0.1/Download/file?uri=mast:HST/product/ibxy06ekq_ima.fits to ./mastDownload/HST/ibxy06ekq/ibxy06ekq_ima.fits ... [Done]\n",
      "Downloading URL https://mast.stsci.edu/api/v0.1/Download/file?uri=mast:HST/product/ibxy06enq_ima.fits to ./mastDownload/HST/ibxy06enq/ibxy06enq_ima.fits ... [Done]\n",
      "Downloading URL https://mast.stsci.edu/api/v0.1/Download/file?uri=mast:HST/product/ibxy06eoq_ima.fits to ./mastDownload/HST/ibxy06eoq/ibxy06eoq_ima.fits ... [Done]\n",
      "Downloading URL https://mast.stsci.edu/api/v0.1/Download/file?uri=mast:HST/product/ibxy06epq_ima.fits to ./mastDownload/HST/ibxy06epq/ibxy06epq_ima.fits ... [Done]\n",
      "Downloading URL https://mast.stsci.edu/api/v0.1/Download/file?uri=mast:HST/product/ibxy06eqq_ima.fits to ./mastDownload/HST/ibxy06eqq/ibxy06eqq_ima.fits ... [Done]\n",
      "Downloading URL https://mast.stsci.edu/api/v0.1/Download/file?uri=mast:HST/product/ibxy06esq_ima.fits to ./mastDownload/HST/ibxy06esq/ibxy06esq_ima.fits ... [Done]\n",
      "Downloading URL https://mast.stsci.edu/api/v0.1/Download/file?uri=mast:HST/product/ibxy06etq_ima.fits to ./mastDownload/HST/ibxy06etq/ibxy06etq_ima.fits ... [Done]\n",
      "Downloading URL https://mast.stsci.edu/api/v0.1/Download/file?uri=mast:HST/product/ibxy06euq_ima.fits to ./mastDownload/HST/ibxy06euq/ibxy06euq_ima.fits ... [Done]\n",
      "Downloading URL https://mast.stsci.edu/api/v0.1/Download/file?uri=mast:HST/product/ibxy06ewq_ima.fits to ./mastDownload/HST/ibxy06ewq/ibxy06ewq_ima.fits ... [Done]\n",
      "Downloading URL https://mast.stsci.edu/api/v0.1/Download/file?uri=mast:HST/product/ibxy06exq_ima.fits to ./mastDownload/HST/ibxy06exq/ibxy06exq_ima.fits ... [Done]\n",
      "Downloading URL https://mast.stsci.edu/api/v0.1/Download/file?uri=mast:HST/product/ibxy06eyq_ima.fits to ./mastDownload/HST/ibxy06eyq/ibxy06eyq_ima.fits ... [Done]\n",
      "Downloading URL https://mast.stsci.edu/api/v0.1/Download/file?uri=mast:HST/product/ibxy06f0q_ima.fits to ./mastDownload/HST/ibxy06f0q/ibxy06f0q_ima.fits ... [Done]\n"
     ]
    },
    {
     "name": "stdout",
     "output_type": "stream",
     "text": [
      "Downloading URL https://mast.stsci.edu/api/v0.1/Download/file?uri=mast:HST/product/ibxy06f1q_ima.fits to ./mastDownload/HST/ibxy06f1q/ibxy06f1q_ima.fits ... [Done]\n",
      "Downloading URL https://mast.stsci.edu/api/v0.1/Download/file?uri=mast:HST/product/ibxy06f2q_ima.fits to ./mastDownload/HST/ibxy06f2q/ibxy06f2q_ima.fits ... [Done]\n",
      "Downloading URL https://mast.stsci.edu/api/v0.1/Download/file?uri=mast:HST/product/ibxy06f4q_ima.fits to ./mastDownload/HST/ibxy06f4q/ibxy06f4q_ima.fits ... [Done]\n",
      "Downloading URL https://mast.stsci.edu/api/v0.1/Download/file?uri=mast:HST/product/ibxy06f5q_ima.fits to ./mastDownload/HST/ibxy06f5q/ibxy06f5q_ima.fits ... [Done]\n",
      "Downloading URL https://mast.stsci.edu/api/v0.1/Download/file?uri=mast:HST/product/ibxy06f6q_ima.fits to ./mastDownload/HST/ibxy06f6q/ibxy06f6q_ima.fits ... [Done]\n",
      "Downloading URL https://mast.stsci.edu/api/v0.1/Download/file?uri=mast:HST/product/ibxy06f8q_ima.fits to ./mastDownload/HST/ibxy06f8q/ibxy06f8q_ima.fits ... [Done]\n",
      "Downloading URL https://mast.stsci.edu/api/v0.1/Download/file?uri=mast:HST/product/ibxy06f9q_ima.fits to ./mastDownload/HST/ibxy06f9q/ibxy06f9q_ima.fits ... [Done]\n",
      "Downloading URL https://mast.stsci.edu/api/v0.1/Download/file?uri=mast:HST/product/ibxy06faq_ima.fits to ./mastDownload/HST/ibxy06faq/ibxy06faq_ima.fits ... [Done]\n",
      "Downloading URL https://mast.stsci.edu/api/v0.1/Download/file?uri=mast:HST/product/ibxy06fcq_ima.fits to ./mastDownload/HST/ibxy06fcq/ibxy06fcq_ima.fits ... [Done]\n",
      "Downloading URL https://mast.stsci.edu/api/v0.1/Download/file?uri=mast:HST/product/ibxy06fdq_ima.fits to ./mastDownload/HST/ibxy06fdq/ibxy06fdq_ima.fits ... [Done]\n",
      "Downloading URL https://mast.stsci.edu/api/v0.1/Download/file?uri=mast:HST/product/ibxy06feq_ima.fits to ./mastDownload/HST/ibxy06feq/ibxy06feq_ima.fits ... [Done]\n",
      "Downloading URL https://mast.stsci.edu/api/v0.1/Download/file?uri=mast:HST/product/ibxy06ffq_ima.fits to ./mastDownload/HST/ibxy06ffq/ibxy06ffq_ima.fits ... [Done]\n",
      "Downloading URL https://mast.stsci.edu/api/v0.1/Download/file?uri=mast:HST/product/ibxy06fhq_ima.fits to ./mastDownload/HST/ibxy06fhq/ibxy06fhq_ima.fits ... [Done]\n",
      "Downloading URL https://mast.stsci.edu/api/v0.1/Download/file?uri=mast:HST/product/ibxy06fiq_ima.fits to ./mastDownload/HST/ibxy06fiq/ibxy06fiq_ima.fits ... [Done]\n",
      "Downloading URL https://mast.stsci.edu/api/v0.1/Download/file?uri=mast:HST/product/ibxy06fjq_ima.fits to ./mastDownload/HST/ibxy06fjq/ibxy06fjq_ima.fits ... [Done]\n",
      "Downloading URL https://mast.stsci.edu/api/v0.1/Download/file?uri=mast:HST/product/ibxy06fkq_ima.fits to ./mastDownload/HST/ibxy06fkq/ibxy06fkq_ima.fits ... [Done]\n",
      "Downloading URL https://mast.stsci.edu/api/v0.1/Download/file?uri=mast:HST/product/ibxy06flq_ima.fits to ./mastDownload/HST/ibxy06flq/ibxy06flq_ima.fits ... [Done]\n",
      "Downloading URL https://mast.stsci.edu/api/v0.1/Download/file?uri=mast:HST/product/ibxy06fmq_ima.fits to ./mastDownload/HST/ibxy06fmq/ibxy06fmq_ima.fits ... [Done]\n",
      "Downloading URL https://mast.stsci.edu/api/v0.1/Download/file?uri=mast:HST/product/ibxy06fnq_ima.fits to ./mastDownload/HST/ibxy06fnq/ibxy06fnq_ima.fits ... [Done]\n",
      "Downloading URL https://mast.stsci.edu/api/v0.1/Download/file?uri=mast:HST/product/ibxy06foq_ima.fits to ./mastDownload/HST/ibxy06foq/ibxy06foq_ima.fits ... [Done]\n",
      "Downloading URL https://mast.stsci.edu/api/v0.1/Download/file?uri=mast:HST/product/ibxy06fpq_ima.fits to ./mastDownload/HST/ibxy06fpq/ibxy06fpq_ima.fits ... [Done]\n",
      "Downloading URL https://mast.stsci.edu/api/v0.1/Download/file?uri=mast:HST/product/ibxy06fqq_ima.fits to ./mastDownload/HST/ibxy06fqq/ibxy06fqq_ima.fits ... [Done]\n",
      "Downloading URL https://mast.stsci.edu/api/v0.1/Download/file?uri=mast:HST/product/ibxy06frq_ima.fits to ./mastDownload/HST/ibxy06frq/ibxy06frq_ima.fits ... [Done]\n",
      "Downloading URL https://mast.stsci.edu/api/v0.1/Download/file?uri=mast:HST/product/ibxy06fsq_ima.fits to ./mastDownload/HST/ibxy06fsq/ibxy06fsq_ima.fits ... [Done]\n",
      "Downloading URL https://mast.stsci.edu/api/v0.1/Download/file?uri=mast:HST/product/ibxy06ftq_ima.fits to ./mastDownload/HST/ibxy06ftq/ibxy06ftq_ima.fits ... [Done]\n",
      "Downloading URL https://mast.stsci.edu/api/v0.1/Download/file?uri=mast:HST/product/ibxy06fuq_ima.fits to ./mastDownload/HST/ibxy06fuq/ibxy06fuq_ima.fits ... [Done]\n",
      "Downloading URL https://mast.stsci.edu/api/v0.1/Download/file?uri=mast:HST/product/ibxy06fvq_ima.fits to ./mastDownload/HST/ibxy06fvq/ibxy06fvq_ima.fits ... [Done]\n",
      "Downloading URL https://mast.stsci.edu/api/v0.1/Download/file?uri=mast:HST/product/ibxy06fwq_ima.fits to ./mastDownload/HST/ibxy06fwq/ibxy06fwq_ima.fits ... [Done]\n",
      "Downloading URL https://mast.stsci.edu/api/v0.1/Download/file?uri=mast:HST/product/ibxy06fxq_ima.fits to ./mastDownload/HST/ibxy06fxq/ibxy06fxq_ima.fits ... [Done]\n",
      "Downloading URL https://mast.stsci.edu/api/v0.1/Download/file?uri=mast:HST/product/ibxy07p9q_ima.fits to ./mastDownload/HST/ibxy07p9q/ibxy07p9q_ima.fits ... [Done]\n",
      "Downloading URL https://mast.stsci.edu/api/v0.1/Download/file?uri=mast:HST/product/ibxy07paq_ima.fits to ./mastDownload/HST/ibxy07paq/ibxy07paq_ima.fits ... [Done]\n",
      "Downloading URL https://mast.stsci.edu/api/v0.1/Download/file?uri=mast:HST/product/ibxy07pbq_ima.fits to ./mastDownload/HST/ibxy07pbq/ibxy07pbq_ima.fits ... [Done]\n",
      "Downloading URL https://mast.stsci.edu/api/v0.1/Download/file?uri=mast:HST/product/ibxy07pcq_ima.fits to ./mastDownload/HST/ibxy07pcq/ibxy07pcq_ima.fits ... [Done]\n",
      "Downloading URL https://mast.stsci.edu/api/v0.1/Download/file?uri=mast:HST/product/ibxy07pdq_ima.fits to ./mastDownload/HST/ibxy07pdq/ibxy07pdq_ima.fits ... [Done]\n",
      "Downloading URL https://mast.stsci.edu/api/v0.1/Download/file?uri=mast:HST/product/ibxy07pfq_ima.fits to ./mastDownload/HST/ibxy07pfq/ibxy07pfq_ima.fits ... [Done]\n",
      "Downloading URL https://mast.stsci.edu/api/v0.1/Download/file?uri=mast:HST/product/ibxy07pgq_ima.fits to ./mastDownload/HST/ibxy07pgq/ibxy07pgq_ima.fits ... [Done]\n",
      "Downloading URL https://mast.stsci.edu/api/v0.1/Download/file?uri=mast:HST/product/ibxy07phq_ima.fits to ./mastDownload/HST/ibxy07phq/ibxy07phq_ima.fits ... [Done]\n",
      "Downloading URL https://mast.stsci.edu/api/v0.1/Download/file?uri=mast:HST/product/ibxy07pjq_ima.fits to ./mastDownload/HST/ibxy07pjq/ibxy07pjq_ima.fits ... [Done]\n",
      "Downloading URL https://mast.stsci.edu/api/v0.1/Download/file?uri=mast:HST/product/ibxy07pkq_ima.fits to ./mastDownload/HST/ibxy07pkq/ibxy07pkq_ima.fits ... [Done]\n",
      "Downloading URL https://mast.stsci.edu/api/v0.1/Download/file?uri=mast:HST/product/ibxy07plq_ima.fits to ./mastDownload/HST/ibxy07plq/ibxy07plq_ima.fits ... [Done]\n",
      "Downloading URL https://mast.stsci.edu/api/v0.1/Download/file?uri=mast:HST/product/ibxy07pnq_ima.fits to ./mastDownload/HST/ibxy07pnq/ibxy07pnq_ima.fits ... [Done]\n",
      "Downloading URL https://mast.stsci.edu/api/v0.1/Download/file?uri=mast:HST/product/ibxy07poq_ima.fits to ./mastDownload/HST/ibxy07poq/ibxy07poq_ima.fits ... [Done]\n",
      "Downloading URL https://mast.stsci.edu/api/v0.1/Download/file?uri=mast:HST/product/ibxy07ppq_ima.fits to ./mastDownload/HST/ibxy07ppq/ibxy07ppq_ima.fits ... [Done]\n",
      "Downloading URL https://mast.stsci.edu/api/v0.1/Download/file?uri=mast:HST/product/ibxy07prq_ima.fits to ./mastDownload/HST/ibxy07prq/ibxy07prq_ima.fits ... [Done]\n",
      "Downloading URL https://mast.stsci.edu/api/v0.1/Download/file?uri=mast:HST/product/ibxy07psq_ima.fits to ./mastDownload/HST/ibxy07psq/ibxy07psq_ima.fits ... [Done]\n",
      "Downloading URL https://mast.stsci.edu/api/v0.1/Download/file?uri=mast:HST/product/ibxy07ptq_ima.fits to ./mastDownload/HST/ibxy07ptq/ibxy07ptq_ima.fits ... [Done]\n",
      "Downloading URL https://mast.stsci.edu/api/v0.1/Download/file?uri=mast:HST/product/ibxy07pvq_ima.fits to ./mastDownload/HST/ibxy07pvq/ibxy07pvq_ima.fits ... [Done]\n",
      "Downloading URL https://mast.stsci.edu/api/v0.1/Download/file?uri=mast:HST/product/ibxy07pwq_ima.fits to ./mastDownload/HST/ibxy07pwq/ibxy07pwq_ima.fits ... [Done]\n",
      "Downloading URL https://mast.stsci.edu/api/v0.1/Download/file?uri=mast:HST/product/ibxy07pxq_ima.fits to ./mastDownload/HST/ibxy07pxq/ibxy07pxq_ima.fits ... [Done]\n",
      "Downloading URL https://mast.stsci.edu/api/v0.1/Download/file?uri=mast:HST/product/ibxy07pyq_ima.fits to ./mastDownload/HST/ibxy07pyq/ibxy07pyq_ima.fits ... [Done]\n"
     ]
    },
    {
     "name": "stdout",
     "output_type": "stream",
     "text": [
      "Downloading URL https://mast.stsci.edu/api/v0.1/Download/file?uri=mast:HST/product/ibxy07q0q_ima.fits to ./mastDownload/HST/ibxy07q0q/ibxy07q0q_ima.fits ... [Done]\n",
      "Downloading URL https://mast.stsci.edu/api/v0.1/Download/file?uri=mast:HST/product/ibxy07q1q_ima.fits to ./mastDownload/HST/ibxy07q1q/ibxy07q1q_ima.fits ... [Done]\n",
      "Downloading URL https://mast.stsci.edu/api/v0.1/Download/file?uri=mast:HST/product/ibxy07q2q_ima.fits to ./mastDownload/HST/ibxy07q2q/ibxy07q2q_ima.fits ... [Done]\n",
      "Downloading URL https://mast.stsci.edu/api/v0.1/Download/file?uri=mast:HST/product/ibxy07q4q_ima.fits to ./mastDownload/HST/ibxy07q4q/ibxy07q4q_ima.fits ... [Done]\n",
      "Downloading URL https://mast.stsci.edu/api/v0.1/Download/file?uri=mast:HST/product/ibxy07q5q_ima.fits to ./mastDownload/HST/ibxy07q5q/ibxy07q5q_ima.fits ... [Done]\n",
      "Downloading URL https://mast.stsci.edu/api/v0.1/Download/file?uri=mast:HST/product/ibxy07q6q_ima.fits to ./mastDownload/HST/ibxy07q6q/ibxy07q6q_ima.fits ... [Done]\n",
      "Downloading URL https://mast.stsci.edu/api/v0.1/Download/file?uri=mast:HST/product/ibxy07q8q_ima.fits to ./mastDownload/HST/ibxy07q8q/ibxy07q8q_ima.fits ... [Done]\n",
      "Downloading URL https://mast.stsci.edu/api/v0.1/Download/file?uri=mast:HST/product/ibxy07q9q_ima.fits to ./mastDownload/HST/ibxy07q9q/ibxy07q9q_ima.fits ... [Done]\n",
      "Downloading URL https://mast.stsci.edu/api/v0.1/Download/file?uri=mast:HST/product/ibxy07qaq_ima.fits to ./mastDownload/HST/ibxy07qaq/ibxy07qaq_ima.fits ... [Done]\n",
      "Downloading URL https://mast.stsci.edu/api/v0.1/Download/file?uri=mast:HST/product/ibxy07qcq_ima.fits to ./mastDownload/HST/ibxy07qcq/ibxy07qcq_ima.fits ... [Done]\n",
      "Downloading URL https://mast.stsci.edu/api/v0.1/Download/file?uri=mast:HST/product/ibxy07qdq_ima.fits to ./mastDownload/HST/ibxy07qdq/ibxy07qdq_ima.fits ... [Done]\n",
      "Downloading URL https://mast.stsci.edu/api/v0.1/Download/file?uri=mast:HST/product/ibxy07qeq_ima.fits to ./mastDownload/HST/ibxy07qeq/ibxy07qeq_ima.fits ... [Done]\n",
      "Downloading URL https://mast.stsci.edu/api/v0.1/Download/file?uri=mast:HST/product/ibxy07qgq_ima.fits to ./mastDownload/HST/ibxy07qgq/ibxy07qgq_ima.fits ... [Done]\n",
      "Downloading URL https://mast.stsci.edu/api/v0.1/Download/file?uri=mast:HST/product/ibxy07qhq_ima.fits to ./mastDownload/HST/ibxy07qhq/ibxy07qhq_ima.fits ... [Done]\n",
      "Downloading URL https://mast.stsci.edu/api/v0.1/Download/file?uri=mast:HST/product/ibxy07qiq_ima.fits to ./mastDownload/HST/ibxy07qiq/ibxy07qiq_ima.fits ... [Done]\n",
      "Downloading URL https://mast.stsci.edu/api/v0.1/Download/file?uri=mast:HST/product/ibxy07qkq_ima.fits to ./mastDownload/HST/ibxy07qkq/ibxy07qkq_ima.fits ... [Done]\n",
      "Downloading URL https://mast.stsci.edu/api/v0.1/Download/file?uri=mast:HST/product/ibxy07qlq_ima.fits to ./mastDownload/HST/ibxy07qlq/ibxy07qlq_ima.fits ... [Done]\n",
      "Downloading URL https://mast.stsci.edu/api/v0.1/Download/file?uri=mast:HST/product/ibxy07qmq_ima.fits to ./mastDownload/HST/ibxy07qmq/ibxy07qmq_ima.fits ... [Done]\n",
      "Downloading URL https://mast.stsci.edu/api/v0.1/Download/file?uri=mast:HST/product/ibxy07qoq_ima.fits to ./mastDownload/HST/ibxy07qoq/ibxy07qoq_ima.fits ... [Done]\n",
      "Downloading URL https://mast.stsci.edu/api/v0.1/Download/file?uri=mast:HST/product/ibxy07qpq_ima.fits to ./mastDownload/HST/ibxy07qpq/ibxy07qpq_ima.fits ... [Done]\n",
      "Downloading URL https://mast.stsci.edu/api/v0.1/Download/file?uri=mast:HST/product/ibxy07qqq_ima.fits to ./mastDownload/HST/ibxy07qqq/ibxy07qqq_ima.fits ... [Done]\n",
      "Downloading URL https://mast.stsci.edu/api/v0.1/Download/file?uri=mast:HST/product/ibxy07qrq_ima.fits to ./mastDownload/HST/ibxy07qrq/ibxy07qrq_ima.fits ... [Done]\n",
      "Downloading URL https://mast.stsci.edu/api/v0.1/Download/file?uri=mast:HST/product/ibxy07qtq_ima.fits to ./mastDownload/HST/ibxy07qtq/ibxy07qtq_ima.fits ... [Done]\n",
      "Downloading URL https://mast.stsci.edu/api/v0.1/Download/file?uri=mast:HST/product/ibxy07quq_ima.fits to ./mastDownload/HST/ibxy07quq/ibxy07quq_ima.fits ... [Done]\n",
      "Downloading URL https://mast.stsci.edu/api/v0.1/Download/file?uri=mast:HST/product/ibxy07qvq_ima.fits to ./mastDownload/HST/ibxy07qvq/ibxy07qvq_ima.fits ... [Done]\n",
      "Downloading URL https://mast.stsci.edu/api/v0.1/Download/file?uri=mast:HST/product/ibxy07qxq_ima.fits to ./mastDownload/HST/ibxy07qxq/ibxy07qxq_ima.fits ... [Done]\n",
      "Downloading URL https://mast.stsci.edu/api/v0.1/Download/file?uri=mast:HST/product/ibxy07qyq_ima.fits to ./mastDownload/HST/ibxy07qyq/ibxy07qyq_ima.fits ... [Done]\n",
      "Downloading URL https://mast.stsci.edu/api/v0.1/Download/file?uri=mast:HST/product/ibxy07qzq_ima.fits to ./mastDownload/HST/ibxy07qzq/ibxy07qzq_ima.fits ... [Done]\n",
      "Downloading URL https://mast.stsci.edu/api/v0.1/Download/file?uri=mast:HST/product/ibxy07r1q_ima.fits to ./mastDownload/HST/ibxy07r1q/ibxy07r1q_ima.fits ... [Done]\n",
      "Downloading URL https://mast.stsci.edu/api/v0.1/Download/file?uri=mast:HST/product/ibxy07r2q_ima.fits to ./mastDownload/HST/ibxy07r2q/ibxy07r2q_ima.fits ... [Done]\n",
      "Downloading URL https://mast.stsci.edu/api/v0.1/Download/file?uri=mast:HST/product/ibxy07r3q_ima.fits to ./mastDownload/HST/ibxy07r3q/ibxy07r3q_ima.fits ... [Done]\n",
      "Downloading URL https://mast.stsci.edu/api/v0.1/Download/file?uri=mast:HST/product/ibxy07r5q_ima.fits to ./mastDownload/HST/ibxy07r5q/ibxy07r5q_ima.fits ... [Done]\n",
      "Downloading URL https://mast.stsci.edu/api/v0.1/Download/file?uri=mast:HST/product/ibxy07r6q_ima.fits to ./mastDownload/HST/ibxy07r6q/ibxy07r6q_ima.fits ... [Done]\n",
      "Downloading URL https://mast.stsci.edu/api/v0.1/Download/file?uri=mast:HST/product/ibxy07r7q_ima.fits to ./mastDownload/HST/ibxy07r7q/ibxy07r7q_ima.fits ... [Done]\n",
      "Downloading URL https://mast.stsci.edu/api/v0.1/Download/file?uri=mast:HST/product/ibxy07r9q_ima.fits to ./mastDownload/HST/ibxy07r9q/ibxy07r9q_ima.fits ... [Done]\n",
      "Downloading URL https://mast.stsci.edu/api/v0.1/Download/file?uri=mast:HST/product/ibxy07raq_ima.fits to ./mastDownload/HST/ibxy07raq/ibxy07raq_ima.fits ... [Done]\n",
      "Downloading URL https://mast.stsci.edu/api/v0.1/Download/file?uri=mast:HST/product/ibxy07rbq_ima.fits to ./mastDownload/HST/ibxy07rbq/ibxy07rbq_ima.fits ... [Done]\n",
      "Downloading URL https://mast.stsci.edu/api/v0.1/Download/file?uri=mast:HST/product/ibxy07rdq_ima.fits to ./mastDownload/HST/ibxy07rdq/ibxy07rdq_ima.fits ... [Done]\n",
      "Downloading URL https://mast.stsci.edu/api/v0.1/Download/file?uri=mast:HST/product/ibxy07req_ima.fits to ./mastDownload/HST/ibxy07req/ibxy07req_ima.fits ... [Done]\n",
      "Downloading URL https://mast.stsci.edu/api/v0.1/Download/file?uri=mast:HST/product/ibxy07rfq_ima.fits to ./mastDownload/HST/ibxy07rfq/ibxy07rfq_ima.fits ... [Done]\n",
      "Downloading URL https://mast.stsci.edu/api/v0.1/Download/file?uri=mast:HST/product/ibxy07rgq_ima.fits to ./mastDownload/HST/ibxy07rgq/ibxy07rgq_ima.fits ... [Done]\n",
      "Downloading URL https://mast.stsci.edu/api/v0.1/Download/file?uri=mast:HST/product/ibxy07riq_ima.fits to ./mastDownload/HST/ibxy07riq/ibxy07riq_ima.fits ... [Done]\n",
      "Downloading URL https://mast.stsci.edu/api/v0.1/Download/file?uri=mast:HST/product/ibxy07rjq_ima.fits to ./mastDownload/HST/ibxy07rjq/ibxy07rjq_ima.fits ... [Done]\n",
      "Downloading URL https://mast.stsci.edu/api/v0.1/Download/file?uri=mast:HST/product/ibxy07rkq_ima.fits to ./mastDownload/HST/ibxy07rkq/ibxy07rkq_ima.fits ... [Done]\n",
      "Downloading URL https://mast.stsci.edu/api/v0.1/Download/file?uri=mast:HST/product/ibxy07rlq_ima.fits to ./mastDownload/HST/ibxy07rlq/ibxy07rlq_ima.fits ... [Done]\n",
      "Downloading URL https://mast.stsci.edu/api/v0.1/Download/file?uri=mast:HST/product/ibxy07rmq_ima.fits to ./mastDownload/HST/ibxy07rmq/ibxy07rmq_ima.fits ... [Done]\n",
      "Downloading URL https://mast.stsci.edu/api/v0.1/Download/file?uri=mast:HST/product/ibxy07rnq_ima.fits to ./mastDownload/HST/ibxy07rnq/ibxy07rnq_ima.fits ... [Done]\n",
      "Downloading URL https://mast.stsci.edu/api/v0.1/Download/file?uri=mast:HST/product/ibxy07roq_ima.fits to ./mastDownload/HST/ibxy07roq/ibxy07roq_ima.fits ... [Done]\n",
      "Downloading URL https://mast.stsci.edu/api/v0.1/Download/file?uri=mast:HST/product/ibxy07rpq_ima.fits to ./mastDownload/HST/ibxy07rpq/ibxy07rpq_ima.fits ... [Done]\n",
      "Downloading URL https://mast.stsci.edu/api/v0.1/Download/file?uri=mast:HST/product/ibxy07rqq_ima.fits to ./mastDownload/HST/ibxy07rqq/ibxy07rqq_ima.fits ... [Done]\n"
     ]
    },
    {
     "name": "stdout",
     "output_type": "stream",
     "text": [
      "Downloading URL https://mast.stsci.edu/api/v0.1/Download/file?uri=mast:HST/product/ibxy07rrq_ima.fits to ./mastDownload/HST/ibxy07rrq/ibxy07rrq_ima.fits ... [Done]\n",
      "Downloading URL https://mast.stsci.edu/api/v0.1/Download/file?uri=mast:HST/product/ibxy07rsq_ima.fits to ./mastDownload/HST/ibxy07rsq/ibxy07rsq_ima.fits ... [Done]\n",
      "Downloading URL https://mast.stsci.edu/api/v0.1/Download/file?uri=mast:HST/product/ibxy07rtq_ima.fits to ./mastDownload/HST/ibxy07rtq/ibxy07rtq_ima.fits ... [Done]\n",
      "Downloading URL https://mast.stsci.edu/api/v0.1/Download/file?uri=mast:HST/product/ibxy07ruq_ima.fits to ./mastDownload/HST/ibxy07ruq/ibxy07ruq_ima.fits ... [Done]\n",
      "Downloading URL https://mast.stsci.edu/api/v0.1/Download/file?uri=mast:HST/product/ibxy07rvq_ima.fits to ./mastDownload/HST/ibxy07rvq/ibxy07rvq_ima.fits ... [Done]\n",
      "Downloading URL https://mast.stsci.edu/api/v0.1/Download/file?uri=mast:HST/product/ibxy07rwq_ima.fits to ./mastDownload/HST/ibxy07rwq/ibxy07rwq_ima.fits ... [Done]\n",
      "Downloading URL https://mast.stsci.edu/api/v0.1/Download/file?uri=mast:HST/product/ibxy07rxq_ima.fits to ./mastDownload/HST/ibxy07rxq/ibxy07rxq_ima.fits ... [Done]\n",
      "Downloading URL https://mast.stsci.edu/api/v0.1/Download/file?uri=mast:HST/product/ibxy07ryq_ima.fits to ./mastDownload/HST/ibxy07ryq/ibxy07ryq_ima.fits ... [Done]\n"
     ]
    },
    {
     "data": {
      "text/html": [
       "<div><i>Table length=158</i>\n",
       "<table id=\"table140048889714528\" class=\"table-striped table-bordered table-condensed\">\n",
       "<thead><tr><th>Local Path</th><th>Status</th><th>Message</th><th>URL</th></tr></thead>\n",
       "<thead><tr><th>str47</th><th>str8</th><th>object</th><th>object</th></tr></thead>\n",
       "<tr><td>./mastDownload/HST/ibxy06d0q/ibxy06d0q_ima.fits</td><td>COMPLETE</td><td>None</td><td>None</td></tr>\n",
       "<tr><td>./mastDownload/HST/ibxy06d1q/ibxy06d1q_ima.fits</td><td>COMPLETE</td><td>None</td><td>None</td></tr>\n",
       "<tr><td>./mastDownload/HST/ibxy06d2q/ibxy06d2q_ima.fits</td><td>COMPLETE</td><td>None</td><td>None</td></tr>\n",
       "<tr><td>./mastDownload/HST/ibxy06d3q/ibxy06d3q_ima.fits</td><td>COMPLETE</td><td>None</td><td>None</td></tr>\n",
       "<tr><td>./mastDownload/HST/ibxy06d4q/ibxy06d4q_ima.fits</td><td>COMPLETE</td><td>None</td><td>None</td></tr>\n",
       "<tr><td>./mastDownload/HST/ibxy06d6q/ibxy06d6q_ima.fits</td><td>COMPLETE</td><td>None</td><td>None</td></tr>\n",
       "<tr><td>...</td><td>...</td><td>...</td><td>...</td></tr>\n",
       "<tr><td>./mastDownload/HST/ibxy07rsq/ibxy07rsq_ima.fits</td><td>COMPLETE</td><td>None</td><td>None</td></tr>\n",
       "<tr><td>./mastDownload/HST/ibxy07rtq/ibxy07rtq_ima.fits</td><td>COMPLETE</td><td>None</td><td>None</td></tr>\n",
       "<tr><td>./mastDownload/HST/ibxy07ruq/ibxy07ruq_ima.fits</td><td>COMPLETE</td><td>None</td><td>None</td></tr>\n",
       "<tr><td>./mastDownload/HST/ibxy07rvq/ibxy07rvq_ima.fits</td><td>COMPLETE</td><td>None</td><td>None</td></tr>\n",
       "<tr><td>./mastDownload/HST/ibxy07rwq/ibxy07rwq_ima.fits</td><td>COMPLETE</td><td>None</td><td>None</td></tr>\n",
       "<tr><td>./mastDownload/HST/ibxy07rxq/ibxy07rxq_ima.fits</td><td>COMPLETE</td><td>None</td><td>None</td></tr>\n",
       "<tr><td>./mastDownload/HST/ibxy07ryq/ibxy07ryq_ima.fits</td><td>COMPLETE</td><td>None</td><td>None</td></tr>\n",
       "</table></div>"
      ],
      "text/plain": [
       "<Table length=158>\n",
       "                   Local Path                    Status  Message  URL  \n",
       "                     str47                        str8    object object\n",
       "----------------------------------------------- -------- ------- ------\n",
       "./mastDownload/HST/ibxy06d0q/ibxy06d0q_ima.fits COMPLETE    None   None\n",
       "./mastDownload/HST/ibxy06d1q/ibxy06d1q_ima.fits COMPLETE    None   None\n",
       "./mastDownload/HST/ibxy06d2q/ibxy06d2q_ima.fits COMPLETE    None   None\n",
       "./mastDownload/HST/ibxy06d3q/ibxy06d3q_ima.fits COMPLETE    None   None\n",
       "./mastDownload/HST/ibxy06d4q/ibxy06d4q_ima.fits COMPLETE    None   None\n",
       "./mastDownload/HST/ibxy06d6q/ibxy06d6q_ima.fits COMPLETE    None   None\n",
       "                                            ...      ...     ...    ...\n",
       "./mastDownload/HST/ibxy07rsq/ibxy07rsq_ima.fits COMPLETE    None   None\n",
       "./mastDownload/HST/ibxy07rtq/ibxy07rtq_ima.fits COMPLETE    None   None\n",
       "./mastDownload/HST/ibxy07ruq/ibxy07ruq_ima.fits COMPLETE    None   None\n",
       "./mastDownload/HST/ibxy07rvq/ibxy07rvq_ima.fits COMPLETE    None   None\n",
       "./mastDownload/HST/ibxy07rwq/ibxy07rwq_ima.fits COMPLETE    None   None\n",
       "./mastDownload/HST/ibxy07rxq/ibxy07rxq_ima.fits COMPLETE    None   None\n",
       "./mastDownload/HST/ibxy07ryq/ibxy07ryq_ima.fits COMPLETE    None   None"
      ]
     },
     "execution_count": 12,
     "metadata": {},
     "output_type": "execute_result"
    }
   ],
   "source": [
    "Observations.download_products(data_products_ima,mrp_only=False)"
   ]
  },
  {
   "cell_type": "markdown",
   "metadata": {},
   "source": [
    "The files were all saved in separate directories with the following format:\n",
    "\n",
    "- mastDownload\n",
    "  - HST\n",
    "     + file1\n",
    "         -  file1_ima.fits\n",
    "     + file2\n",
    "         -  file2_ima.fits\n",
    "     + file3\n",
    "         -  file3_ima.fits\n",
    "\n",
    "etc...\n",
    "\n",
    "Let's now move all these IMA files into a common directory."
   ]
  },
  {
   "cell_type": "code",
   "execution_count": 13,
   "metadata": {},
   "outputs": [],
   "source": [
    "file_path = os.path.dirname(os.path.abspath(\"__file__\"))"
   ]
  },
  {
   "cell_type": "code",
   "execution_count": 14,
   "metadata": {},
   "outputs": [
    {
     "data": {
      "text/plain": [
       "'/home/zieba/Desktop/Projects/Open_source/PACMAN/docs/source'"
      ]
     },
     "execution_count": 14,
     "metadata": {},
     "output_type": "execute_result"
    }
   ],
   "source": [
    "file_path"
   ]
  },
  {
   "cell_type": "code",
   "execution_count": 15,
   "metadata": {},
   "outputs": [],
   "source": [
    "root_dir = file_path + '/mastDownload/HST' # Specify root directory to be searched for .sav files.\n",
    "move_dir = file_path\n",
    "filelist = []\n",
    "\n",
    "# list all ima files in the subdirectories\n",
    "for tree,fol,fils in os.walk(root_dir):\n",
    "    filelist.extend([os.path.join(tree,fil) for fil in fils if fil.endswith('.fits')])"
   ]
  },
  {
   "cell_type": "code",
   "execution_count": 16,
   "metadata": {},
   "outputs": [
    {
     "name": "stdout",
     "output_type": "stream",
     "text": [
      "['/home/zieba/Desktop/Projects/Open_source/PACMAN/docs/source/mastDownload/HST/ibxy07rkq/ibxy07rkq_ima.fits', '/home/zieba/Desktop/Projects/Open_source/PACMAN/docs/source/mastDownload/HST/ibxy06ecq/ibxy06ecq_ima.fits', '/home/zieba/Desktop/Projects/Open_source/PACMAN/docs/source/mastDownload/HST/ibxy06fcq/ibxy06fcq_ima.fits', '/home/zieba/Desktop/Projects/Open_source/PACMAN/docs/source/mastDownload/HST/ibxy07qiq/ibxy07qiq_ima.fits', '/home/zieba/Desktop/Projects/Open_source/PACMAN/docs/source/mastDownload/HST/ibxy06f5q/ibxy06f5q_ima.fits', '/home/zieba/Desktop/Projects/Open_source/PACMAN/docs/source/mastDownload/HST/ibxy07qaq/ibxy07qaq_ima.fits', '/home/zieba/Desktop/Projects/Open_source/PACMAN/docs/source/mastDownload/HST/ibxy07rdq/ibxy07rdq_ima.fits', '/home/zieba/Desktop/Projects/Open_source/PACMAN/docs/source/mastDownload/HST/ibxy06esq/ibxy06esq_ima.fits', '/home/zieba/Desktop/Projects/Open_source/PACMAN/docs/source/mastDownload/HST/ibxy06eoq/ibxy06eoq_ima.fits', '/home/zieba/Desktop/Projects/Open_source/PACMAN/docs/source/mastDownload/HST/ibxy07r5q/ibxy07r5q_ima.fits', '/home/zieba/Desktop/Projects/Open_source/PACMAN/docs/source/mastDownload/HST/ibxy06e8q/ibxy06e8q_ima.fits', '/home/zieba/Desktop/Projects/Open_source/PACMAN/docs/source/mastDownload/HST/ibxy07qxq/ibxy07qxq_ima.fits', '/home/zieba/Desktop/Projects/Open_source/PACMAN/docs/source/mastDownload/HST/ibxy07qkq/ibxy07qkq_ima.fits', '/home/zieba/Desktop/Projects/Open_source/PACMAN/docs/source/mastDownload/HST/ibxy06d7q/ibxy06d7q_ima.fits', '/home/zieba/Desktop/Projects/Open_source/PACMAN/docs/source/mastDownload/HST/ibxy06enq/ibxy06enq_ima.fits', '/home/zieba/Desktop/Projects/Open_source/PACMAN/docs/source/mastDownload/HST/ibxy07r1q/ibxy07r1q_ima.fits', '/home/zieba/Desktop/Projects/Open_source/PACMAN/docs/source/mastDownload/HST/ibxy06e4q/ibxy06e4q_ima.fits', '/home/zieba/Desktop/Projects/Open_source/PACMAN/docs/source/mastDownload/HST/ibxy07rmq/ibxy07rmq_ima.fits', '/home/zieba/Desktop/Projects/Open_source/PACMAN/docs/source/mastDownload/HST/ibxy06e3q/ibxy06e3q_ima.fits', '/home/zieba/Desktop/Projects/Open_source/PACMAN/docs/source/mastDownload/HST/ibxy06fxq/ibxy06fxq_ima.fits', '/home/zieba/Desktop/Projects/Open_source/PACMAN/docs/source/mastDownload/HST/ibxy07rxq/ibxy07rxq_ima.fits', '/home/zieba/Desktop/Projects/Open_source/PACMAN/docs/source/mastDownload/HST/ibxy07pkq/ibxy07pkq_ima.fits', '/home/zieba/Desktop/Projects/Open_source/PACMAN/docs/source/mastDownload/HST/ibxy06dfq/ibxy06dfq_ima.fits', '/home/zieba/Desktop/Projects/Open_source/PACMAN/docs/source/mastDownload/HST/ibxy07rfq/ibxy07rfq_ima.fits', '/home/zieba/Desktop/Projects/Open_source/PACMAN/docs/source/mastDownload/HST/ibxy07pvq/ibxy07pvq_ima.fits', '/home/zieba/Desktop/Projects/Open_source/PACMAN/docs/source/mastDownload/HST/ibxy06faq/ibxy06faq_ima.fits', '/home/zieba/Desktop/Projects/Open_source/PACMAN/docs/source/mastDownload/HST/ibxy07rsq/ibxy07rsq_ima.fits', '/home/zieba/Desktop/Projects/Open_source/PACMAN/docs/source/mastDownload/HST/ibxy07rgq/ibxy07rgq_ima.fits', '/home/zieba/Desktop/Projects/Open_source/PACMAN/docs/source/mastDownload/HST/ibxy06dgq/ibxy06dgq_ima.fits', '/home/zieba/Desktop/Projects/Open_source/PACMAN/docs/source/mastDownload/HST/ibxy06dyq/ibxy06dyq_ima.fits', '/home/zieba/Desktop/Projects/Open_source/PACMAN/docs/source/mastDownload/HST/ibxy07psq/ibxy07psq_ima.fits', '/home/zieba/Desktop/Projects/Open_source/PACMAN/docs/source/mastDownload/HST/ibxy07riq/ibxy07riq_ima.fits', '/home/zieba/Desktop/Projects/Open_source/PACMAN/docs/source/mastDownload/HST/ibxy07r2q/ibxy07r2q_ima.fits', '/home/zieba/Desktop/Projects/Open_source/PACMAN/docs/source/mastDownload/HST/ibxy06fwq/ibxy06fwq_ima.fits', '/home/zieba/Desktop/Projects/Open_source/PACMAN/docs/source/mastDownload/HST/ibxy06d1q/ibxy06d1q_ima.fits', '/home/zieba/Desktop/Projects/Open_source/PACMAN/docs/source/mastDownload/HST/ibxy06d3q/ibxy06d3q_ima.fits', '/home/zieba/Desktop/Projects/Open_source/PACMAN/docs/source/mastDownload/HST/ibxy07pwq/ibxy07pwq_ima.fits', '/home/zieba/Desktop/Projects/Open_source/PACMAN/docs/source/mastDownload/HST/ibxy06fpq/ibxy06fpq_ima.fits', '/home/zieba/Desktop/Projects/Open_source/PACMAN/docs/source/mastDownload/HST/ibxy07pfq/ibxy07pfq_ima.fits', '/home/zieba/Desktop/Projects/Open_source/PACMAN/docs/source/mastDownload/HST/ibxy07q9q/ibxy07q9q_ima.fits', '/home/zieba/Desktop/Projects/Open_source/PACMAN/docs/source/mastDownload/HST/ibxy07pyq/ibxy07pyq_ima.fits', '/home/zieba/Desktop/Projects/Open_source/PACMAN/docs/source/mastDownload/HST/ibxy06eyq/ibxy06eyq_ima.fits', '/home/zieba/Desktop/Projects/Open_source/PACMAN/docs/source/mastDownload/HST/ibxy06flq/ibxy06flq_ima.fits', '/home/zieba/Desktop/Projects/Open_source/PACMAN/docs/source/mastDownload/HST/ibxy06f0q/ibxy06f0q_ima.fits', '/home/zieba/Desktop/Projects/Open_source/PACMAN/docs/source/mastDownload/HST/ibxy06d0q/ibxy06d0q_ima.fits', '/home/zieba/Desktop/Projects/Open_source/PACMAN/docs/source/mastDownload/HST/ibxy07qrq/ibxy07qrq_ima.fits', '/home/zieba/Desktop/Projects/Open_source/PACMAN/docs/source/mastDownload/HST/ibxy06ewq/ibxy06ewq_ima.fits', '/home/zieba/Desktop/Projects/Open_source/PACMAN/docs/source/mastDownload/HST/ibxy06fuq/ibxy06fuq_ima.fits', '/home/zieba/Desktop/Projects/Open_source/PACMAN/docs/source/mastDownload/HST/ibxy06fjq/ibxy06fjq_ima.fits', '/home/zieba/Desktop/Projects/Open_source/PACMAN/docs/source/mastDownload/HST/ibxy06efq/ibxy06efq_ima.fits', '/home/zieba/Desktop/Projects/Open_source/PACMAN/docs/source/mastDownload/HST/ibxy06exq/ibxy06exq_ima.fits', '/home/zieba/Desktop/Projects/Open_source/PACMAN/docs/source/mastDownload/HST/ibxy06egq/ibxy06egq_ima.fits', '/home/zieba/Desktop/Projects/Open_source/PACMAN/docs/source/mastDownload/HST/ibxy06fqq/ibxy06fqq_ima.fits', '/home/zieba/Desktop/Projects/Open_source/PACMAN/docs/source/mastDownload/HST/ibxy07ryq/ibxy07ryq_ima.fits', '/home/zieba/Desktop/Projects/Open_source/PACMAN/docs/source/mastDownload/HST/ibxy06fmq/ibxy06fmq_ima.fits', '/home/zieba/Desktop/Projects/Open_source/PACMAN/docs/source/mastDownload/HST/ibxy06ffq/ibxy06ffq_ima.fits', '/home/zieba/Desktop/Projects/Open_source/PACMAN/docs/source/mastDownload/HST/ibxy07qqq/ibxy07qqq_ima.fits', '/home/zieba/Desktop/Projects/Open_source/PACMAN/docs/source/mastDownload/HST/ibxy07phq/ibxy07phq_ima.fits', '/home/zieba/Desktop/Projects/Open_source/PACMAN/docs/source/mastDownload/HST/ibxy06foq/ibxy06foq_ima.fits', '/home/zieba/Desktop/Projects/Open_source/PACMAN/docs/source/mastDownload/HST/ibxy07req/ibxy07req_ima.fits', '/home/zieba/Desktop/Projects/Open_source/PACMAN/docs/source/mastDownload/HST/ibxy07p9q/ibxy07p9q_ima.fits', '/home/zieba/Desktop/Projects/Open_source/PACMAN/docs/source/mastDownload/HST/ibxy06d6q/ibxy06d6q_ima.fits', '/home/zieba/Desktop/Projects/Open_source/PACMAN/docs/source/mastDownload/HST/ibxy07r6q/ibxy07r6q_ima.fits', '/home/zieba/Desktop/Projects/Open_source/PACMAN/docs/source/mastDownload/HST/ibxy06f4q/ibxy06f4q_ima.fits', '/home/zieba/Desktop/Projects/Open_source/PACMAN/docs/source/mastDownload/HST/ibxy06fsq/ibxy06fsq_ima.fits', '/home/zieba/Desktop/Projects/Open_source/PACMAN/docs/source/mastDownload/HST/ibxy06frq/ibxy06frq_ima.fits', '/home/zieba/Desktop/Projects/Open_source/PACMAN/docs/source/mastDownload/HST/ibxy07q2q/ibxy07q2q_ima.fits', '/home/zieba/Desktop/Projects/Open_source/PACMAN/docs/source/mastDownload/HST/ibxy06f6q/ibxy06f6q_ima.fits', '/home/zieba/Desktop/Projects/Open_source/PACMAN/docs/source/mastDownload/HST/ibxy07rqq/ibxy07rqq_ima.fits', '/home/zieba/Desktop/Projects/Open_source/PACMAN/docs/source/mastDownload/HST/ibxy07pgq/ibxy07pgq_ima.fits', '/home/zieba/Desktop/Projects/Open_source/PACMAN/docs/source/mastDownload/HST/ibxy07qeq/ibxy07qeq_ima.fits', '/home/zieba/Desktop/Projects/Open_source/PACMAN/docs/source/mastDownload/HST/ibxy07q4q/ibxy07q4q_ima.fits', '/home/zieba/Desktop/Projects/Open_source/PACMAN/docs/source/mastDownload/HST/ibxy07rtq/ibxy07rtq_ima.fits', '/home/zieba/Desktop/Projects/Open_source/PACMAN/docs/source/mastDownload/HST/ibxy06fdq/ibxy06fdq_ima.fits', '/home/zieba/Desktop/Projects/Open_source/PACMAN/docs/source/mastDownload/HST/ibxy07qdq/ibxy07qdq_ima.fits', '/home/zieba/Desktop/Projects/Open_source/PACMAN/docs/source/mastDownload/HST/ibxy07pcq/ibxy07pcq_ima.fits', '/home/zieba/Desktop/Projects/Open_source/PACMAN/docs/source/mastDownload/HST/ibxy06dbq/ibxy06dbq_ima.fits', '/home/zieba/Desktop/Projects/Open_source/PACMAN/docs/source/mastDownload/HST/ibxy07q6q/ibxy07q6q_ima.fits', '/home/zieba/Desktop/Projects/Open_source/PACMAN/docs/source/mastDownload/HST/ibxy07ruq/ibxy07ruq_ima.fits', '/home/zieba/Desktop/Projects/Open_source/PACMAN/docs/source/mastDownload/HST/ibxy07qoq/ibxy07qoq_ima.fits', '/home/zieba/Desktop/Projects/Open_source/PACMAN/docs/source/mastDownload/HST/ibxy06dzq/ibxy06dzq_ima.fits', '/home/zieba/Desktop/Projects/Open_source/PACMAN/docs/source/mastDownload/HST/ibxy07qzq/ibxy07qzq_ima.fits', '/home/zieba/Desktop/Projects/Open_source/PACMAN/docs/source/mastDownload/HST/ibxy06eaq/ibxy06eaq_ima.fits', '/home/zieba/Desktop/Projects/Open_source/PACMAN/docs/source/mastDownload/HST/ibxy06etq/ibxy06etq_ima.fits', '/home/zieba/Desktop/Projects/Open_source/PACMAN/docs/source/mastDownload/HST/ibxy07q8q/ibxy07q8q_ima.fits', '/home/zieba/Desktop/Projects/Open_source/PACMAN/docs/source/mastDownload/HST/ibxy07rlq/ibxy07rlq_ima.fits', '/home/zieba/Desktop/Projects/Open_source/PACMAN/docs/source/mastDownload/HST/ibxy06d4q/ibxy06d4q_ima.fits', '/home/zieba/Desktop/Projects/Open_source/PACMAN/docs/source/mastDownload/HST/ibxy06fkq/ibxy06fkq_ima.fits', '/home/zieba/Desktop/Projects/Open_source/PACMAN/docs/source/mastDownload/HST/ibxy06fhq/ibxy06fhq_ima.fits', '/home/zieba/Desktop/Projects/Open_source/PACMAN/docs/source/mastDownload/HST/ibxy07prq/ibxy07prq_ima.fits', '/home/zieba/Desktop/Projects/Open_source/PACMAN/docs/source/mastDownload/HST/ibxy07q0q/ibxy07q0q_ima.fits', '/home/zieba/Desktop/Projects/Open_source/PACMAN/docs/source/mastDownload/HST/ibxy07pxq/ibxy07pxq_ima.fits', '/home/zieba/Desktop/Projects/Open_source/PACMAN/docs/source/mastDownload/HST/ibxy06eiq/ibxy06eiq_ima.fits', '/home/zieba/Desktop/Projects/Open_source/PACMAN/docs/source/mastDownload/HST/ibxy07pjq/ibxy07pjq_ima.fits', '/home/zieba/Desktop/Projects/Open_source/PACMAN/docs/source/mastDownload/HST/ibxy07poq/ibxy07poq_ima.fits', '/home/zieba/Desktop/Projects/Open_source/PACMAN/docs/source/mastDownload/HST/ibxy07quq/ibxy07quq_ima.fits', '/home/zieba/Desktop/Projects/Open_source/PACMAN/docs/source/mastDownload/HST/ibxy07qcq/ibxy07qcq_ima.fits', '/home/zieba/Desktop/Projects/Open_source/PACMAN/docs/source/mastDownload/HST/ibxy06ejq/ibxy06ejq_ima.fits', '/home/zieba/Desktop/Projects/Open_source/PACMAN/docs/source/mastDownload/HST/ibxy06diq/ibxy06diq_ima.fits', '/home/zieba/Desktop/Projects/Open_source/PACMAN/docs/source/mastDownload/HST/ibxy06daq/ibxy06daq_ima.fits', '/home/zieba/Desktop/Projects/Open_source/PACMAN/docs/source/mastDownload/HST/ibxy07q1q/ibxy07q1q_ima.fits', '/home/zieba/Desktop/Projects/Open_source/PACMAN/docs/source/mastDownload/HST/ibxy06dnq/ibxy06dnq_ima.fits', '/home/zieba/Desktop/Projects/Open_source/PACMAN/docs/source/mastDownload/HST/ibxy06dcq/ibxy06dcq_ima.fits', '/home/zieba/Desktop/Projects/Open_source/PACMAN/docs/source/mastDownload/HST/ibxy07r9q/ibxy07r9q_ima.fits', '/home/zieba/Desktop/Projects/Open_source/PACMAN/docs/source/mastDownload/HST/ibxy07qmq/ibxy07qmq_ima.fits', '/home/zieba/Desktop/Projects/Open_source/PACMAN/docs/source/mastDownload/HST/ibxy07rjq/ibxy07rjq_ima.fits', '/home/zieba/Desktop/Projects/Open_source/PACMAN/docs/source/mastDownload/HST/ibxy06ftq/ibxy06ftq_ima.fits', '/home/zieba/Desktop/Projects/Open_source/PACMAN/docs/source/mastDownload/HST/ibxy06dqq/ibxy06dqq_ima.fits', '/home/zieba/Desktop/Projects/Open_source/PACMAN/docs/source/mastDownload/HST/ibxy07raq/ibxy07raq_ima.fits', '/home/zieba/Desktop/Projects/Open_source/PACMAN/docs/source/mastDownload/HST/ibxy06feq/ibxy06feq_ima.fits', '/home/zieba/Desktop/Projects/Open_source/PACMAN/docs/source/mastDownload/HST/ibxy07q5q/ibxy07q5q_ima.fits', '/home/zieba/Desktop/Projects/Open_source/PACMAN/docs/source/mastDownload/HST/ibxy06fiq/ibxy06fiq_ima.fits', '/home/zieba/Desktop/Projects/Open_source/PACMAN/docs/source/mastDownload/HST/ibxy06f8q/ibxy06f8q_ima.fits', '/home/zieba/Desktop/Projects/Open_source/PACMAN/docs/source/mastDownload/HST/ibxy06fnq/ibxy06fnq_ima.fits', '/home/zieba/Desktop/Projects/Open_source/PACMAN/docs/source/mastDownload/HST/ibxy07rnq/ibxy07rnq_ima.fits', '/home/zieba/Desktop/Projects/Open_source/PACMAN/docs/source/mastDownload/HST/ibxy07r3q/ibxy07r3q_ima.fits', '/home/zieba/Desktop/Projects/Open_source/PACMAN/docs/source/mastDownload/HST/ibxy06djq/ibxy06djq_ima.fits', '/home/zieba/Desktop/Projects/Open_source/PACMAN/docs/source/mastDownload/HST/ibxy07roq/ibxy07roq_ima.fits', '/home/zieba/Desktop/Projects/Open_source/PACMAN/docs/source/mastDownload/HST/ibxy07rpq/ibxy07rpq_ima.fits', '/home/zieba/Desktop/Projects/Open_source/PACMAN/docs/source/mastDownload/HST/ibxy06eeq/ibxy06eeq_ima.fits', '/home/zieba/Desktop/Projects/Open_source/PACMAN/docs/source/mastDownload/HST/ibxy07ppq/ibxy07ppq_ima.fits', '/home/zieba/Desktop/Projects/Open_source/PACMAN/docs/source/mastDownload/HST/ibxy07pdq/ibxy07pdq_ima.fits', '/home/zieba/Desktop/Projects/Open_source/PACMAN/docs/source/mastDownload/HST/ibxy07rbq/ibxy07rbq_ima.fits', '/home/zieba/Desktop/Projects/Open_source/PACMAN/docs/source/mastDownload/HST/ibxy07pnq/ibxy07pnq_ima.fits', '/home/zieba/Desktop/Projects/Open_source/PACMAN/docs/source/mastDownload/HST/ibxy06f9q/ibxy06f9q_ima.fits', '/home/zieba/Desktop/Projects/Open_source/PACMAN/docs/source/mastDownload/HST/ibxy07r7q/ibxy07r7q_ima.fits', '/home/zieba/Desktop/Projects/Open_source/PACMAN/docs/source/mastDownload/HST/ibxy07qvq/ibxy07qvq_ima.fits', '/home/zieba/Desktop/Projects/Open_source/PACMAN/docs/source/mastDownload/HST/ibxy06e0q/ibxy06e0q_ima.fits', '/home/zieba/Desktop/Projects/Open_source/PACMAN/docs/source/mastDownload/HST/ibxy06f2q/ibxy06f2q_ima.fits', '/home/zieba/Desktop/Projects/Open_source/PACMAN/docs/source/mastDownload/HST/ibxy06d2q/ibxy06d2q_ima.fits', '/home/zieba/Desktop/Projects/Open_source/PACMAN/docs/source/mastDownload/HST/ibxy07qlq/ibxy07qlq_ima.fits', '/home/zieba/Desktop/Projects/Open_source/PACMAN/docs/source/mastDownload/HST/ibxy06ebq/ibxy06ebq_ima.fits', '/home/zieba/Desktop/Projects/Open_source/PACMAN/docs/source/mastDownload/HST/ibxy07qtq/ibxy07qtq_ima.fits', '/home/zieba/Desktop/Projects/Open_source/PACMAN/docs/source/mastDownload/HST/ibxy06f1q/ibxy06f1q_ima.fits', '/home/zieba/Desktop/Projects/Open_source/PACMAN/docs/source/mastDownload/HST/ibxy07qgq/ibxy07qgq_ima.fits', '/home/zieba/Desktop/Projects/Open_source/PACMAN/docs/source/mastDownload/HST/ibxy07pbq/ibxy07pbq_ima.fits', '/home/zieba/Desktop/Projects/Open_source/PACMAN/docs/source/mastDownload/HST/ibxy07qpq/ibxy07qpq_ima.fits', '/home/zieba/Desktop/Projects/Open_source/PACMAN/docs/source/mastDownload/HST/ibxy06epq/ibxy06epq_ima.fits', '/home/zieba/Desktop/Projects/Open_source/PACMAN/docs/source/mastDownload/HST/ibxy07qyq/ibxy07qyq_ima.fits', '/home/zieba/Desktop/Projects/Open_source/PACMAN/docs/source/mastDownload/HST/ibxy06e7q/ibxy06e7q_ima.fits', '/home/zieba/Desktop/Projects/Open_source/PACMAN/docs/source/mastDownload/HST/ibxy06deq/ibxy06deq_ima.fits', '/home/zieba/Desktop/Projects/Open_source/PACMAN/docs/source/mastDownload/HST/ibxy07rvq/ibxy07rvq_ima.fits', '/home/zieba/Desktop/Projects/Open_source/PACMAN/docs/source/mastDownload/HST/ibxy07rrq/ibxy07rrq_ima.fits', '/home/zieba/Desktop/Projects/Open_source/PACMAN/docs/source/mastDownload/HST/ibxy07qhq/ibxy07qhq_ima.fits', '/home/zieba/Desktop/Projects/Open_source/PACMAN/docs/source/mastDownload/HST/ibxy06euq/ibxy06euq_ima.fits', '/home/zieba/Desktop/Projects/Open_source/PACMAN/docs/source/mastDownload/HST/ibxy06eqq/ibxy06eqq_ima.fits', '/home/zieba/Desktop/Projects/Open_source/PACMAN/docs/source/mastDownload/HST/ibxy06fvq/ibxy06fvq_ima.fits', '/home/zieba/Desktop/Projects/Open_source/PACMAN/docs/source/mastDownload/HST/ibxy06dvq/ibxy06dvq_ima.fits', '/home/zieba/Desktop/Projects/Open_source/PACMAN/docs/source/mastDownload/HST/ibxy07ptq/ibxy07ptq_ima.fits', '/home/zieba/Desktop/Projects/Open_source/PACMAN/docs/source/mastDownload/HST/ibxy07rwq/ibxy07rwq_ima.fits', '/home/zieba/Desktop/Projects/Open_source/PACMAN/docs/source/mastDownload/HST/ibxy06dwq/ibxy06dwq_ima.fits', '/home/zieba/Desktop/Projects/Open_source/PACMAN/docs/source/mastDownload/HST/ibxy07paq/ibxy07paq_ima.fits', '/home/zieba/Desktop/Projects/Open_source/PACMAN/docs/source/mastDownload/HST/ibxy06ekq/ibxy06ekq_ima.fits', '/home/zieba/Desktop/Projects/Open_source/PACMAN/docs/source/mastDownload/HST/ibxy07plq/ibxy07plq_ima.fits', '/home/zieba/Desktop/Projects/Open_source/PACMAN/docs/source/mastDownload/HST/ibxy06d8q/ibxy06d8q_ima.fits', '/home/zieba/Desktop/Projects/Open_source/PACMAN/docs/source/mastDownload/HST/ibxy06e2q/ibxy06e2q_ima.fits', '/home/zieba/Desktop/Projects/Open_source/PACMAN/docs/source/mastDownload/HST/ibxy06dpq/ibxy06dpq_ima.fits', '/home/zieba/Desktop/Projects/Open_source/PACMAN/docs/source/mastDownload/HST/ibxy06e6q/ibxy06e6q_ima.fits']\n"
     ]
    }
   ],
   "source": [
    "# all dowloaded ima files\n",
    "print(filelist)"
   ]
  },
  {
   "cell_type": "code",
   "execution_count": 17,
   "metadata": {},
   "outputs": [],
   "source": [
    "for fil in filelist:\n",
    "    name = fil.split('/')[-1]\n",
    "    os.rename(fil,move_dir + '/' + name)"
   ]
  },
  {
   "cell_type": "code",
   "execution_count": 18,
   "metadata": {},
   "outputs": [
    {
     "data": {
      "text/plain": [
       "0"
      ]
     },
     "execution_count": 18,
     "metadata": {},
     "output_type": "execute_result"
    }
   ],
   "source": [
    "# delete the mastDownload directory\n",
    "os.system(\"rm -r {0}\".format(file_path + '/mastDownload'))"
   ]
  },
  {
   "cell_type": "markdown",
   "metadata": {},
   "source": [
    "Now all 158 IMA files are in the same directory as the script and we can use this directory as the data directory.\n",
    "You can obviously alternatively move this files somewhere else. This directory which includes all the fits files will be your \"data directory\".\n",
    "\n",
    "Follow along to [Stage 00](https://pacmandocs.readthedocs.io/en/latest/stage00.html), to start with Stage 00 of PACMAN."
   ]
  }
 ],
 "metadata": {
  "kernelspec": {
   "display_name": "Python 3 (ipykernel)",
   "language": "python",
   "name": "python3"
  },
  "language_info": {
   "codemirror_mode": {
    "name": "ipython",
    "version": 3
   },
   "file_extension": ".py",
   "mimetype": "text/x-python",
   "name": "python",
   "nbconvert_exporter": "python",
   "pygments_lexer": "ipython3",
   "version": "3.8.8"
  }
 },
 "nbformat": 4,
 "nbformat_minor": 4
}