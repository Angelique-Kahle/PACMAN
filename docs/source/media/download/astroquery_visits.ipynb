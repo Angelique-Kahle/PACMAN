{
 "cells": [
  {
   "cell_type": "markdown",
   "metadata": {},
   "source": [
    "# Download observations from MAST using astroquery for a part of an HST program"
   ]
  },
  {
   "cell_type": "markdown",
   "metadata": {},
   "source": [
    "This tutorial is based on the following Jupyter Notebooks:\n",
    "\n",
    "https://github.com/spacetelescope/MAST-API-Notebooks/blob/master/HST/HST_Data_Access.ipynb\n",
    "\n",
    "https://github.com/spacetelescope/MAST-API-Notebooks/blob/master/AstroqueryIntro/AstroqueryFunctionalityDemo.ipynb \n",
    "    "
   ]
  },
  {
   "cell_type": "code",
   "execution_count": 32,
   "metadata": {},
   "outputs": [],
   "source": [
    "import numpy as np\n",
    "import os\n",
    "from astroquery.mast import Observations"
   ]
  },
  {
   "cell_type": "markdown",
   "metadata": {},
   "source": [
    "## set start and end time of the observations in MJD"
   ]
  },
  {
   "cell_type": "code",
   "execution_count": 33,
   "metadata": {},
   "outputs": [],
   "source": [
    "t_min_obs =  56364.52973075 - 0.0001\n",
    "t_max_obs =  56378.980103359994 + 0.0001"
   ]
  },
  {
   "cell_type": "code",
   "execution_count": 34,
   "metadata": {},
   "outputs": [
    {
     "name": "stdout",
     "output_type": "stream",
     "text": [
      "Number of observations: 1115\n",
      "dataproduct_type calib_level obs_collection ... intentType  obsid     objID  \n",
      "---------------- ----------- -------------- ... ---------- -------- ---------\n",
      "        spectrum           3            HST ...    science 23901558 139211258\n",
      "        spectrum           3            HST ...    science 23901554 139211259\n",
      "        spectrum           3            HST ...    science 23901557 139211260\n",
      "        spectrum           3            HST ...    science 23901739 139211261\n",
      "        spectrum           3            HST ...    science 23901737 139211268\n",
      "        spectrum           3            HST ...    science 23901747 139211277\n",
      "        spectrum           3            HST ...    science 23901722 139211708\n",
      "        spectrum           3            HST ...    science 23901745 139211710\n",
      "        spectrum           3            HST ...    science 23901748 139211712\n",
      "        spectrum           3            HST ...    science 23901734 139211713\n",
      "             ...         ...            ... ...        ...      ...       ...\n",
      "        spectrum           3            HST ...    science 23902297 139244167\n",
      "        spectrum           3            HST ...    science 23902300 139244170\n",
      "        spectrum           3            HST ...    science 23902294 139244173\n",
      "        spectrum           3            HST ...    science 23902315 139244755\n",
      "        spectrum           3            HST ...    science 23902270 139244759\n",
      "        spectrum           3            HST ...    science 23902267 139244763\n",
      "        spectrum           3            HST ...    science 23902333 139244764\n",
      "        spectrum           3            HST ...    science 23902247 139244767\n",
      "        spectrum           3            HST ...    science 23902642 139245484\n",
      "        spectrum           3            HST ...    science 23902688 139245487\n",
      "           image           3            HST ...    science 24807268 139251148\n",
      "Length = 1115 rows\n"
     ]
    }
   ],
   "source": [
    "proposal_obs = Observations.query_criteria(proposal_id=13021,  instrument_name='WFC3/IR', project='HST')\n",
    "print(\"Number of observations:\",len(proposal_obs))\n",
    "print(proposal_obs)"
   ]
  },
  {
   "cell_type": "markdown",
   "metadata": {},
   "source": [
    "## Filter for the wanted times"
   ]
  },
  {
   "cell_type": "code",
   "execution_count": 35,
   "metadata": {},
   "outputs": [],
   "source": [
    "select = (t_min_obs <= proposal_obs['t_min'].value.data) & (proposal_obs['t_min'].value.data <= t_max_obs)"
   ]
  },
  {
   "cell_type": "code",
   "execution_count": 36,
   "metadata": {},
   "outputs": [],
   "source": [
    "proposal_obs_select = proposal_obs[select]"
   ]
  },
  {
   "cell_type": "code",
   "execution_count": 37,
   "metadata": {},
   "outputs": [
    {
     "name": "stdout",
     "output_type": "stream",
     "text": [
      "Number of results: 3147\n",
      " obsID   obs_collection dataproduct_type ... parent_obsid dataRights calib_level\n",
      "-------- -------------- ---------------- ... ------------ ---------- -----------\n",
      "26572598            HST            image ...     24807271     PUBLIC           3\n",
      "26572598            HST            image ...     24807271     PUBLIC           3\n",
      "26572598            HST            image ...     24807271     PUBLIC           3\n",
      "26572598            HST            image ...     24807271     PUBLIC           3\n",
      "26572598            HST            image ...     24807271     PUBLIC           3\n",
      "26572592            HST            image ...     24807271     PUBLIC           2\n",
      "26572592            HST            image ...     24807271     PUBLIC           2\n",
      "26572592            HST            image ...     24807271     PUBLIC           2\n",
      "26572592            HST            image ...     24807271     PUBLIC           2\n",
      "26572592            HST            image ...     24807271     PUBLIC           2\n",
      "     ...            ...              ... ...          ...        ...         ...\n",
      "23902300            HST         spectrum ...     23902300     PUBLIC           1\n",
      "23902300            HST         spectrum ...     23902300     PUBLIC           1\n",
      "23902300            HST         spectrum ...     23902300     PUBLIC           1\n",
      "23902300            HST         spectrum ...     23902300     PUBLIC           1\n",
      "23902300            HST         spectrum ...     23902300     PUBLIC           1\n",
      "23902300            HST         spectrum ...     23902300     PUBLIC           1\n",
      "23902300            HST         spectrum ...     23902300     PUBLIC           3\n",
      "23902300            HST         spectrum ...     23902300     PUBLIC           2\n",
      "23902300            HST         spectrum ...     23902300     PUBLIC           1\n",
      "23902300            HST         spectrum ...     23902300     PUBLIC           3\n",
      "23902300            HST         spectrum ...     23902300     PUBLIC           2\n",
      "Length = 3147 rows\n"
     ]
    }
   ],
   "source": [
    "data_products = Observations.get_product_list(proposal_obs_select)\n",
    "print(\"Number of results:\",len(data_products))\n",
    "print(data_products)"
   ]
  },
  {
   "cell_type": "markdown",
   "metadata": {},
   "source": [
    "## We just want the _ima files"
   ]
  },
  {
   "cell_type": "code",
   "execution_count": 38,
   "metadata": {},
   "outputs": [
    {
     "name": "stdout",
     "output_type": "stream",
     "text": [
      " obsID   obs_collection dataproduct_type ... parent_obsid dataRights calib_level\n",
      "-------- -------------- ---------------- ... ------------ ---------- -----------\n",
      "23901914            HST            image ...     24807271     PUBLIC           2\n",
      "23901915            HST         spectrum ...     23901915     PUBLIC           2\n",
      "23901916            HST         spectrum ...     23901916     PUBLIC           2\n",
      "23901917            HST         spectrum ...     23901917     PUBLIC           2\n",
      "23901918            HST         spectrum ...     23901918     PUBLIC           2\n",
      "23901919            HST         spectrum ...     23901919     PUBLIC           2\n",
      "23901920            HST         spectrum ...     23901920     PUBLIC           2\n",
      "23901921            HST         spectrum ...     23901921     PUBLIC           2\n",
      "23901922            HST         spectrum ...     23901922     PUBLIC           2\n",
      "23901923            HST         spectrum ...     23901923     PUBLIC           2\n",
      "     ...            ...              ... ...          ...        ...         ...\n",
      "23902290            HST         spectrum ...     23902290     PUBLIC           2\n",
      "23902291            HST         spectrum ...     23902291     PUBLIC           2\n",
      "23902292            HST         spectrum ...     23902292     PUBLIC           2\n",
      "23902293            HST         spectrum ...     23902293     PUBLIC           2\n",
      "23902294            HST         spectrum ...     23902294     PUBLIC           2\n",
      "23902295            HST         spectrum ...     23902295     PUBLIC           2\n",
      "23902296            HST         spectrum ...     23902296     PUBLIC           2\n",
      "23902297            HST         spectrum ...     23902297     PUBLIC           2\n",
      "23902298            HST         spectrum ...     23902298     PUBLIC           2\n",
      "23902299            HST         spectrum ...     23902299     PUBLIC           2\n",
      "23902300            HST         spectrum ...     23902300     PUBLIC           2\n",
      "Length = 237 rows\n"
     ]
    }
   ],
   "source": [
    "data_products_ima = data_products[data_products['productSubGroupDescription'] == 'IMA']\n",
    "print(data_products_ima)"
   ]
  },
  {
   "cell_type": "markdown",
   "metadata": {},
   "source": [
    "## Download the data"
   ]
  },
  {
   "cell_type": "code",
   "execution_count": null,
   "metadata": {
    "scrolled": true
   },
   "outputs": [],
   "source": [
    "Observations.download_products(data_products_ima,mrp_only=False)"
   ]
  },
  {
   "cell_type": "code",
   "execution_count": 41,
   "metadata": {},
   "outputs": [],
   "source": [
    "file_path = os.path.dirname(os.path.abspath(\"__file__\"))"
   ]
  },
  {
   "cell_type": "code",
   "execution_count": 43,
   "metadata": {},
   "outputs": [],
   "source": [
    "root_dir = file_path + '/mastDownload/HST' # Specify root directory to be searched for .sav files.\n",
    "move_dir = file_path\n",
    "filelist = []\n",
    "for tree,fol,fils in os.walk(rdir):\n",
    "    filelist.extend([os.path.join(tree,fil) for fil in fils if fil.endswith('.fits')])\n",
    "for fil in filelist:\n",
    "    name = fil.split('/')[-1]\n",
    "    os.rename(fil,move_dir + '/' + name)"
   ]
  },
  {
   "cell_type": "code",
   "execution_count": 46,
   "metadata": {},
   "outputs": [
    {
     "data": {
      "text/plain": [
       "256"
      ]
     },
     "execution_count": 46,
     "metadata": {},
     "output_type": "execute_result"
    }
   ],
   "source": [
    "# delete the mastDownload directory\n",
    "os.system(\"rm -r {0}\".format(file_path + '/mastDownload'))"
   ]
  }
 ],
 "metadata": {
  "kernelspec": {
   "display_name": "Python 3",
   "language": "python",
   "name": "python3"
  },
  "language_info": {
   "codemirror_mode": {
    "name": "ipython",
    "version": 3
   },
   "file_extension": ".py",
   "mimetype": "text/x-python",
   "name": "python",
   "nbconvert_exporter": "python",
   "pygments_lexer": "ipython3",
   "version": "3.7.6"
  }
 },
 "nbformat": 4,
 "nbformat_minor": 4
}
